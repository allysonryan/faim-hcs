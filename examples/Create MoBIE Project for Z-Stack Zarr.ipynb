{
 "cells": [
  {
   "cell_type": "code",
   "execution_count": 1,
   "id": "7a226d02-2fea-4622-a5b9-c9ecdea2cdd2",
   "metadata": {},
   "outputs": [],
   "source": [
    "import os\n",
    "import imageio\n",
    "import mobie\n",
    "import mobie.htm as htm\n",
    "import mobie.metadata as metadata\n",
    "\n",
    "import ome_zarr"
   ]
  },
  {
   "cell_type": "code",
   "execution_count": 2,
   "id": "69678ada",
   "metadata": {},
   "outputs": [],
   "source": [
    "from ome_zarr.io import parse_url\n",
    "import zarr"
   ]
  },
  {
   "cell_type": "code",
   "execution_count": 3,
   "id": "0a41f668-d4b8-4f08-bfd4-89ce7eb12846",
   "metadata": {},
   "outputs": [],
   "source": [
    "from os.path import join"
   ]
  },
  {
   "cell_type": "code",
   "execution_count": 4,
   "id": "8e270586-8359-4e9e-bc83-dd542be309fe",
   "metadata": {},
   "outputs": [],
   "source": [
    "from mobie.metadata.project_metadata import create_project_metadata, add_dataset\n",
    "from mobie.metadata.dataset_metadata import create_dataset_structure, create_dataset_metadata\n",
    "from mobie.metadata.source_metadata import add_source_to_dataset, add_regions_to_dataset"
   ]
  },
  {
   "cell_type": "code",
   "execution_count": 5,
   "id": "0b2d4ecc-b89e-433e-9f6b-75cc11ad8c2a",
   "metadata": {},
   "outputs": [],
   "source": [
    "from mobie.view_utils import create_view\n",
    "from mobie.metadata import get_default_view, add_view_to_dataset"
   ]
  },
  {
   "cell_type": "code",
   "execution_count": 6,
   "id": "8a0c089e",
   "metadata": {},
   "outputs": [],
   "source": [
    "plate_path = \"./zarr-files/Projection-Mix.zarr/\"\n",
    "store = parse_url(plate_path, mode=\"w\").store\n",
    "    \n",
    "plate = zarr.group(store=store)"
   ]
  },
  {
   "cell_type": "code",
   "execution_count": 7,
   "id": "4140329d-ca5b-4d44-8b34-07e044a8fe48",
   "metadata": {},
   "outputs": [],
   "source": [
    "mobie_project_folder = \"./mobie-projects/Z-Stack\""
   ]
  },
  {
   "cell_type": "code",
   "execution_count": 8,
   "id": "f03d08b0-fe42-4d36-a6fa-dbfc60ef6528",
   "metadata": {},
   "outputs": [],
   "source": [
    "dataset_name = \"Projection-Mix\""
   ]
  },
  {
   "cell_type": "code",
   "execution_count": 9,
   "id": "02fe3b23",
   "metadata": {},
   "outputs": [],
   "source": [
    "create_project_metadata(mobie_project_folder)"
   ]
  },
  {
   "cell_type": "code",
   "execution_count": 10,
   "id": "fa6db36a-4c17-412c-a6a2-b5800709873b",
   "metadata": {},
   "outputs": [
    {
     "data": {
      "text/plain": [
       "'./mobie-projects/Z-Stack/Projection-Mix'"
      ]
     },
     "execution_count": 10,
     "metadata": {},
     "output_type": "execute_result"
    }
   ],
   "source": [
    "create_dataset_structure(mobie_project_folder, dataset_name, file_formats=[\"ome.zarr\"])"
   ]
  },
  {
   "cell_type": "code",
   "execution_count": 11,
   "id": "5f940ebd-2d8b-4357-8562-3127001b58ff",
   "metadata": {},
   "outputs": [],
   "source": [
    "create_dataset_metadata(join(mobie_project_folder, dataset_name), is2d=False)"
   ]
  },
  {
   "cell_type": "code",
   "execution_count": 12,
   "id": "47da13ae-4fdd-482c-9b0e-6511ffe407ae",
   "metadata": {},
   "outputs": [],
   "source": [
    "add_dataset(mobie_project_folder, dataset_name, is_default=True)"
   ]
  },
  {
   "cell_type": "code",
   "execution_count": 13,
   "id": "71fd59f1-3837-4a27-a356-a52aa495d62e",
   "metadata": {},
   "outputs": [],
   "source": [
    "from mobie.view_utils import create_grid_view"
   ]
  },
  {
   "cell_type": "code",
   "execution_count": 14,
   "id": "48684798",
   "metadata": {},
   "outputs": [],
   "source": [
    "sources = {}\n",
    "positions = {}\n",
    "colors = {}\n",
    "well_sources = {}\n",
    "histograms = {}"
   ]
  },
  {
   "cell_type": "code",
   "execution_count": 15,
   "id": "d7789903",
   "metadata": {},
   "outputs": [],
   "source": [
    "import string\n",
    "def to_position(well_name):\n",
    "    r,c = well_name[0], well_name[1:]\n",
    "    r = string.ascii_uppercase.index(r)\n",
    "    c = int(c) - 1\n",
    "    return [c, r]"
   ]
  },
  {
   "cell_type": "code",
   "execution_count": 16,
   "id": "2b87cf76",
   "metadata": {},
   "outputs": [],
   "source": [
    "def hex_to_rgba(h):\n",
    "    if not isinstance(h, str):\n",
    "        return \"r=255,g=255,b=255,a=255\"\n",
    "    return f\"r={int(h[0:2], 16)},g={int(h[2:4], 16)},b={int(h[4:6], 16)},a=255\""
   ]
  },
  {
   "cell_type": "code",
   "execution_count": 17,
   "id": "f4d90892",
   "metadata": {},
   "outputs": [],
   "source": [
    "from mobie.view_utils import create_view"
   ]
  },
  {
   "cell_type": "code",
   "execution_count": 18,
   "id": "e92b18da",
   "metadata": {},
   "outputs": [],
   "source": [
    "from faim_hcs.UIntHistogram import UIntHistogram"
   ]
  },
  {
   "cell_type": "code",
   "execution_count": 19,
   "id": "cc0eed31",
   "metadata": {},
   "outputs": [],
   "source": [
    "def get_max_field_yx(plate):\n",
    "    max_y, max_x = 0, 0\n",
    "    for row in plate.group_keys():\n",
    "        for col in plate[row].group_keys():\n",
    "            shape = plate[row][col][0][0].shape\n",
    "            if max_y < shape[-2]:\n",
    "                max_y = shape[-2]\n",
    "            \n",
    "            if max_x < shape[-1]:\n",
    "                max_x = shape[-1]\n",
    "                \n",
    "    return max_y, max_x"
   ]
  },
  {
   "cell_type": "code",
   "execution_count": 20,
   "id": "9d550146",
   "metadata": {},
   "outputs": [
    {
     "data": {
      "text/plain": [
       "(512, 1024)"
      ]
     },
     "execution_count": 20,
     "metadata": {},
     "output_type": "execute_result"
    }
   ],
   "source": [
    "get_max_field_yx(plate)"
   ]
  },
  {
   "cell_type": "code",
   "execution_count": 21,
   "id": "0c2c27d9",
   "metadata": {},
   "outputs": [],
   "source": [
    "from copy import copy"
   ]
  },
  {
   "cell_type": "code",
   "execution_count": 22,
   "id": "9d40d7af",
   "metadata": {},
   "outputs": [],
   "source": [
    "gap = 50\n",
    "y_max, x_max = get_max_field_yx(plate)\n",
    "\n",
    "sources = {}\n",
    "source_transforms = {}\n",
    "display_settings = {}\n",
    "plate_hists = {}\n",
    "\n",
    "wells = []\n",
    "\n",
    "for i, row in enumerate(plate.group_keys()):\n",
    "    for j, col in enumerate(plate[row].group_keys()):\n",
    "        attrs = plate[row][col]['0'].attrs.asdict()\n",
    "        _, z_spacing, y_spacing, x_spacing = attrs['multiscales'][0]['datasets'][0]['coordinateTransformations'][0]['scale']\n",
    "        wells.append(row + col.zfill(2))\n",
    "        path = join(plate.store.path, row, col, '0')\n",
    "\n",
    "        hists = [UIntHistogram.load(join(path, h_path)) for h_path in attrs['histograms']]\n",
    "        \n",
    "        for k, ch in enumerate(attrs['omero']['channels']):\n",
    "            key = f\"{ch['wavelength_id']}_{ch['label']}\"\n",
    "            \n",
    "            name = f\"{row}{col.zfill(2)}_{key}\"\n",
    "            source_transform = {\n",
    "                    \"sources\": [name],\n",
    "                    \"parameters\": [1., 0., 0., (x_max + gap) * x_spacing * j, \n",
    "                                   0., 1., 0., (y_max + gap) * y_spacing * i,\n",
    "                                   0., 0., 1., 0.],\n",
    "                }\n",
    "            view = get_default_view(\n",
    "                source_type=\"image\",\n",
    "                source_name=name,\n",
    "                menu_name=\"Wells\",\n",
    "                source_transform=source_transform,\n",
    "                color=hex_to_rgba(ch['color']),\n",
    "                contrastLimits=[hists[k].quantile(0.01), hists[k].quantile(0.99)],\n",
    "                opacity=1.0,\n",
    "                sources=[\n",
    "                    name,\n",
    "                ]\n",
    "            )            \n",
    "\n",
    "            add_source_to_dataset(\n",
    "                dataset_folder=join(mobie_project_folder, dataset_name),\n",
    "                source_type=\"image\",\n",
    "                source_name=name,\n",
    "                image_metadata_path=path,\n",
    "                file_format=\"ome.zarr\",\n",
    "                channel=k,\n",
    "                view=view\n",
    "            )\n",
    "            \n",
    "            if key not in plate_hists.keys():\n",
    "                plate_hists[key] = copy(hists[k])\n",
    "            else:\n",
    "                plate_hists[key].combine(hists[k])\n",
    "            \n",
    "            if key not in sources.keys():\n",
    "                sources[key] = [name]\n",
    "            else:\n",
    "                sources[key].append(name)\n",
    "                \n",
    "            if key not in source_transforms.keys():\n",
    "                source_transforms[key] = [{\"affine\": source_transform}]\n",
    "            else:\n",
    "                source_transforms[key].append({\"affine\": source_transform})\n",
    "                \n",
    "            if key not in display_settings.keys():\n",
    "                display_settings[key] = {\n",
    "                        \"color\": hex_to_rgba(ch['color']),\n",
    "                        \"opacity\": 1.0,\n",
    "                        \"sources\": [\n",
    "                            name,\n",
    "                        ],\n",
    "                    }\n",
    "                \n",
    "            else:\n",
    "                display_settings[key][\"sources\"].append(name)"
   ]
  },
  {
   "cell_type": "code",
   "execution_count": 23,
   "id": "21e248fb",
   "metadata": {},
   "outputs": [],
   "source": [
    "from mobie.metadata import get_grid_view, get_merged_grid_source_transform, get_image_display"
   ]
  },
  {
   "cell_type": "code",
   "execution_count": 24,
   "id": "ec8b9c61",
   "metadata": {},
   "outputs": [],
   "source": [
    "from mobie.view_utils import create_view"
   ]
  },
  {
   "cell_type": "code",
   "execution_count": 25,
   "id": "2d0497c3",
   "metadata": {},
   "outputs": [],
   "source": [
    "first_key = list(source_transforms.keys())[0]\n",
    "src_trafos = source_transforms[first_key]\n",
    "for c in filter(lambda k: k != first_key, source_transforms.keys()):\n",
    "    for i, trafo in enumerate(source_transforms[c]):\n",
    "        src_trafos[i]['affine']['sources'].extend(trafo['affine']['sources'])"
   ]
  },
  {
   "cell_type": "code",
   "execution_count": 26,
   "id": "4b3b88c8",
   "metadata": {},
   "outputs": [],
   "source": [
    "disp_settings = []\n",
    "group_names = []\n",
    "sources_ = []\n",
    "\n",
    "for ch in display_settings.keys():\n",
    "    ds = display_settings[ch]\n",
    "    ds['contrastLimits'] = [plate_hists[ch].quantile(0.01), plate_hists[ch].quantile(0.99)]\n",
    "    disp_settings.append(ds)\n",
    "    \n",
    "    group_names.append(ch)\n",
    "    \n",
    "    sources_.append(sources[ch])\n",
    "    \n",
    "    create_view(\n",
    "        dataset_folder=join(mobie_project_folder, dataset_name),\n",
    "        view_name=ch,\n",
    "        display_settings=[ds],\n",
    "        display_group_names=[ch],\n",
    "        sources=[sources[ch]],\n",
    "        source_transforms=source_transforms[ch],\n",
    "        menu_name=\"Channels\",\n",
    "        is_exclusive=False,\n",
    "    )"
   ]
  },
  {
   "cell_type": "code",
   "execution_count": 27,
   "id": "79377ab1",
   "metadata": {},
   "outputs": [
    {
     "data": {
      "text/plain": [
       "[{'color': 'r=115,g=255,b=0,a=255',\n",
       "  'opacity': 1.0,\n",
       "  'contrastLimits': [111, 8065]},\n",
       " {'color': 'r=115,g=255,b=0,a=255',\n",
       "  'opacity': 1.0,\n",
       "  'contrastLimits': [111, 8014]},\n",
       " {'color': 'r=0,g=0,b=0,a=255', 'opacity': 1.0, 'contrastLimits': [0, 0]},\n",
       " {'color': 'r=115,g=255,b=0,a=255',\n",
       "  'opacity': 1.0,\n",
       "  'contrastLimits': [0, 170]}]"
      ]
     },
     "execution_count": 27,
     "metadata": {},
     "output_type": "execute_result"
    }
   ],
   "source": [
    "disp_settings"
   ]
  },
  {
   "cell_type": "code",
   "execution_count": 28,
   "id": "5f79b30a",
   "metadata": {},
   "outputs": [],
   "source": [
    "import pandas as pd"
   ]
  },
  {
   "cell_type": "code",
   "execution_count": 29,
   "id": "3ecef58c",
   "metadata": {},
   "outputs": [],
   "source": [
    "well_table = pd.DataFrame({\"region_id\": wells,\n",
    "                          \"treatment\": [\"Unknown\",]*len(wells)})"
   ]
  },
  {
   "cell_type": "code",
   "execution_count": 30,
   "id": "2d386f9f",
   "metadata": {},
   "outputs": [
    {
     "data": {
      "text/html": [
       "<div>\n",
       "<style scoped>\n",
       "    .dataframe tbody tr th:only-of-type {\n",
       "        vertical-align: middle;\n",
       "    }\n",
       "\n",
       "    .dataframe tbody tr th {\n",
       "        vertical-align: top;\n",
       "    }\n",
       "\n",
       "    .dataframe thead th {\n",
       "        text-align: right;\n",
       "    }\n",
       "</style>\n",
       "<table border=\"1\" class=\"dataframe\">\n",
       "  <thead>\n",
       "    <tr style=\"text-align: right;\">\n",
       "      <th></th>\n",
       "      <th>region_id</th>\n",
       "      <th>treatment</th>\n",
       "    </tr>\n",
       "  </thead>\n",
       "  <tbody>\n",
       "    <tr>\n",
       "      <th>0</th>\n",
       "      <td>E07</td>\n",
       "      <td>Unknown</td>\n",
       "    </tr>\n",
       "    <tr>\n",
       "      <th>1</th>\n",
       "      <td>E08</td>\n",
       "      <td>Unknown</td>\n",
       "    </tr>\n",
       "  </tbody>\n",
       "</table>\n",
       "</div>"
      ],
      "text/plain": [
       "  region_id treatment\n",
       "0       E07   Unknown\n",
       "1       E08   Unknown"
      ]
     },
     "execution_count": 30,
     "metadata": {},
     "output_type": "execute_result"
    }
   ],
   "source": [
    "well_table"
   ]
  },
  {
   "cell_type": "code",
   "execution_count": 31,
   "id": "38fb1c2a",
   "metadata": {},
   "outputs": [],
   "source": [
    "add_regions_to_dataset(join(mobie_project_folder, dataset_name), \"wells\", well_table)"
   ]
  },
  {
   "cell_type": "code",
   "execution_count": 32,
   "id": "00875d1f",
   "metadata": {},
   "outputs": [],
   "source": [
    "from mobie.metadata import get_region_display"
   ]
  },
  {
   "cell_type": "code",
   "execution_count": 33,
   "id": "ec3c0601",
   "metadata": {},
   "outputs": [
    {
     "data": {
      "text/plain": [
       "{'C01_FITC_05': ['E07_C01_FITC_05', 'E08_C01_FITC_05'],\n",
       " 'C02_FITC_05': ['E07_C02_FITC_05', 'E08_C02_FITC_05'],\n",
       " 'C03_empty': ['E07_C03_empty', 'E08_C03_empty'],\n",
       " 'C04_FITC_05': ['E07_C04_FITC_05', 'E08_C04_FITC_05']}"
      ]
     },
     "execution_count": 33,
     "metadata": {},
     "output_type": "execute_result"
    }
   ],
   "source": [
    "sources"
   ]
  },
  {
   "cell_type": "code",
   "execution_count": 34,
   "id": "f11797ed",
   "metadata": {},
   "outputs": [],
   "source": [
    "well_sources = {}\n",
    "\n",
    "for ch in sources.keys():    \n",
    "    for well in sources[ch]:\n",
    "        if well[:3] not in well_sources.keys():\n",
    "            well_sources[well[:3]] = [well]\n",
    "        else:\n",
    "            well_sources[well[:3]].append(well)"
   ]
  },
  {
   "cell_type": "code",
   "execution_count": 35,
   "id": "5b027483",
   "metadata": {
    "scrolled": true
   },
   "outputs": [
    {
     "data": {
      "text/plain": [
       "{'E07': ['E07_C01_FITC_05',\n",
       "  'E07_C02_FITC_05',\n",
       "  'E07_C03_empty',\n",
       "  'E07_C04_FITC_05'],\n",
       " 'E08': ['E08_C01_FITC_05',\n",
       "  'E08_C02_FITC_05',\n",
       "  'E08_C03_empty',\n",
       "  'E08_C04_FITC_05']}"
      ]
     },
     "execution_count": 35,
     "metadata": {},
     "output_type": "execute_result"
    }
   ],
   "source": [
    "well_sources"
   ]
  },
  {
   "cell_type": "code",
   "execution_count": 36,
   "id": "a2df3f68",
   "metadata": {
    "scrolled": true
   },
   "outputs": [],
   "source": [
    "region_disp = get_region_display(\"wells\", well_sources, table_source=\"wells\", lut=\"glasbey\", opacity=0.5, visible=True)"
   ]
  },
  {
   "cell_type": "code",
   "execution_count": 37,
   "id": "4bb3b303",
   "metadata": {},
   "outputs": [
    {
     "data": {
      "text/plain": [
       "{'regionDisplay': {'opacity': 0.5,\n",
       "  'lut': 'glasbey',\n",
       "  'name': 'wells',\n",
       "  'sources': {'E07': ['E07_C01_FITC_05',\n",
       "    'E07_C02_FITC_05',\n",
       "    'E07_C03_empty',\n",
       "    'E07_C04_FITC_05'],\n",
       "   'E08': ['E08_C01_FITC_05',\n",
       "    'E08_C02_FITC_05',\n",
       "    'E08_C03_empty',\n",
       "    'E08_C04_FITC_05']},\n",
       "  'tableSource': 'wells',\n",
       "  'visible': True}}"
      ]
     },
     "execution_count": 37,
     "metadata": {},
     "output_type": "execute_result"
    }
   ],
   "source": [
    "region_disp"
   ]
  },
  {
   "cell_type": "code",
   "execution_count": 38,
   "id": "1559f20b",
   "metadata": {},
   "outputs": [],
   "source": [
    "create_view(\n",
    "    dataset_folder=join(mobie_project_folder, dataset_name),\n",
    "    view_name=\"default\",\n",
    "    display_settings=disp_settings,\n",
    "    display_group_names=group_names,\n",
    "    sources=sources_,\n",
    "    source_transforms=src_trafos,\n",
    "    region_displays={\n",
    "        'Wells': {\n",
    "            'opacity': 0.5,\n",
    "            'lut': 'glasbey',\n",
    "            'sources': well_sources,\n",
    "            'tableSource': 'wells',\n",
    "            'visible': True,\n",
    "            'showAsBoundaries': True,\n",
    "        }\n",
    "    },\n",
    "    menu_name=\"Overview\",\n",
    ")"
   ]
  },
  {
   "cell_type": "code",
   "execution_count": 39,
   "id": "4f324577",
   "metadata": {
    "scrolled": false
   },
   "outputs": [
    {
     "name": "stderr",
     "output_type": "stream",
     "text": [
      "Check sources for dataset Projection-Mix: 100%|█████████████████████████████████████████████████████████████████████████████████████████████████████████████████████████████████████| 9/9 [00:00<00:00, 170.44it/s]\n",
      "Check views for dataset Projection-Mix: 100%|██████████████████████████████████████████████████████████████████████████████████████████████████████████████████████████████████████| 13/13 [00:00<00:00, 71.85it/s]\n",
      "Check view files for dataset Projection-Mix: 0it [00:00, ?it/s]"
     ]
    },
    {
     "name": "stdout",
     "output_type": "stream",
     "text": [
      "The project at ./mobie-projects/Z-Stack is a valid MoBIE project.\n"
     ]
    },
    {
     "name": "stderr",
     "output_type": "stream",
     "text": [
      "\n"
     ]
    }
   ],
   "source": [
    "mobie.validation.validate_project(mobie_project_folder)"
   ]
  },
  {
   "cell_type": "markdown",
   "id": "92f4725d",
   "metadata": {},
   "source": [
    "# Add Projections"
   ]
  },
  {
   "cell_type": "code",
   "execution_count": 42,
   "id": "0f4f8d43",
   "metadata": {},
   "outputs": [],
   "source": [
    "# Same as above for stacks\n",
    "# gap = 50\n",
    "# y_max, x_max = get_max_field_yx(plate)\n",
    "\n",
    "sources = {}\n",
    "source_transforms = {}\n",
    "display_settings = {}\n",
    "plate_hists = {}\n",
    "\n",
    "wells = []\n",
    "\n",
    "for i, row in enumerate(plate.group_keys()):\n",
    "    for j, col in enumerate(plate[row].group_keys()):\n",
    "        attrs = plate[row][col]['0']['projections'].attrs.asdict()\n",
    "        _, y_spacing, x_spacing = attrs['multiscales'][0]['datasets'][0]['coordinateTransformations'][0]['scale']\n",
    "        wells.append(row + col.zfill(2))\n",
    "        path = join(plate.store.path, row, col, '0', 'projections')\n",
    "\n",
    "        hists = [UIntHistogram.load(join(path, h_path)) for h_path in attrs['histograms']]\n",
    "        \n",
    "        for k, ch in enumerate(attrs['omero']['channels']):\n",
    "            key = f\"{ch['wavelength_id']}_{ch['label']}\"\n",
    "            \n",
    "            name = f\"{row}{col.zfill(2)}_{key}\"\n",
    "            source_transform = {\n",
    "                    \"sources\": [name],\n",
    "                    \"parameters\": [1., 0., 0., (x_max + gap) * x_spacing * j, \n",
    "                                   0., 1., 0., (y_max + gap) * y_spacing * i,\n",
    "                                   0., 0., 1., 0.],\n",
    "                }\n",
    "            view = get_default_view(\n",
    "                source_type=\"image\",\n",
    "                source_name=name,\n",
    "                menu_name=\"Projections\",\n",
    "                source_transform=source_transform,\n",
    "                color=hex_to_rgba(ch['color']),\n",
    "                contrastLimits=[hists[k].quantile(0.01), hists[k].quantile(0.99)],\n",
    "                opacity=1.0,\n",
    "                sources=[\n",
    "                    name,\n",
    "                ]\n",
    "            )            \n",
    "\n",
    "            add_source_to_dataset(\n",
    "                dataset_folder=join(mobie_project_folder, dataset_name),\n",
    "                source_type=\"image\",\n",
    "                source_name=name,\n",
    "                image_metadata_path=path,\n",
    "                file_format=\"ome.zarr\",\n",
    "                channel=k,\n",
    "                view=view\n",
    "            )\n",
    "            \n",
    "            if key not in plate_hists.keys():\n",
    "                plate_hists[key] = copy(hists[k])\n",
    "            else:\n",
    "                plate_hists[key].combine(hists[k])\n",
    "            \n",
    "            if key not in sources.keys():\n",
    "                sources[key] = [name]\n",
    "            else:\n",
    "                sources[key].append(name)\n",
    "                \n",
    "            if key not in source_transforms.keys():\n",
    "                source_transforms[key] = [{\"affine\": source_transform}]\n",
    "            else:\n",
    "                source_transforms[key].append({\"affine\": source_transform})\n",
    "                \n",
    "            if key not in display_settings.keys():\n",
    "                display_settings[key] = {\n",
    "                        \"color\": hex_to_rgba(ch['color']),\n",
    "                        \"opacity\": 1.0,\n",
    "                        \"sources\": [\n",
    "                            name,\n",
    "                        ],\n",
    "                    }\n",
    "                \n",
    "            else:\n",
    "                display_settings[key][\"sources\"].append(name)"
   ]
  },
  {
   "cell_type": "code",
   "execution_count": 43,
   "id": "6f1b4853",
   "metadata": {},
   "outputs": [],
   "source": [
    "from mobie.metadata import get_grid_view, get_merged_grid_source_transform, get_image_display"
   ]
  },
  {
   "cell_type": "code",
   "execution_count": 44,
   "id": "0ef2754c",
   "metadata": {},
   "outputs": [],
   "source": [
    "from mobie.view_utils import create_view"
   ]
  },
  {
   "cell_type": "code",
   "execution_count": 45,
   "id": "53aaee0c",
   "metadata": {},
   "outputs": [],
   "source": [
    "first_key = list(source_transforms.keys())[0]\n",
    "src_trafos = source_transforms[first_key]\n",
    "for c in filter(lambda k: k != first_key, source_transforms.keys()):\n",
    "    for i, trafo in enumerate(source_transforms[c]):\n",
    "        src_trafos[i]['affine']['sources'].extend(trafo['affine']['sources'])"
   ]
  },
  {
   "cell_type": "code",
   "execution_count": 46,
   "id": "0f2cd6a9",
   "metadata": {
    "scrolled": true
   },
   "outputs": [
    {
     "data": {
      "text/plain": [
       "[{'affine': {'sources': ['E07_C01_Maximum-Projection_FITC_05',\n",
       "    'E07_C02_Best-Focus-Projection_FITC_05',\n",
       "    'E07_C03_Maximum-Projection_FITC_05',\n",
       "    'E07_C04_empty'],\n",
       "   'parameters': [1.0,\n",
       "    0.0,\n",
       "    0.0,\n",
       "    0.0,\n",
       "    0.0,\n",
       "    1.0,\n",
       "    0.0,\n",
       "    0.0,\n",
       "    0.0,\n",
       "    0.0,\n",
       "    1.0,\n",
       "    0.0]}},\n",
       " {'affine': {'sources': ['E08_C01_Maximum-Projection_FITC_05',\n",
       "    'E08_C02_Best-Focus-Projection_FITC_05',\n",
       "    'E08_C03_Maximum-Projection_FITC_05',\n",
       "    'E08_C04_empty'],\n",
       "   'parameters': [1.0,\n",
       "    0.0,\n",
       "    0.0,\n",
       "    1467.9432,\n",
       "    0.0,\n",
       "    1.0,\n",
       "    0.0,\n",
       "    0.0,\n",
       "    0.0,\n",
       "    0.0,\n",
       "    1.0,\n",
       "    0.0]}}]"
      ]
     },
     "execution_count": 46,
     "metadata": {},
     "output_type": "execute_result"
    }
   ],
   "source": [
    "src_trafos"
   ]
  },
  {
   "cell_type": "code",
   "execution_count": 47,
   "id": "461d6d32",
   "metadata": {},
   "outputs": [
    {
     "data": {
      "text/plain": [
       "['C01_Maximum-Projection_FITC_05',\n",
       " 'C02_Best-Focus-Projection_FITC_05',\n",
       " 'C03_Maximum-Projection_FITC_05',\n",
       " 'C04_empty']"
      ]
     },
     "execution_count": 47,
     "metadata": {},
     "output_type": "execute_result"
    }
   ],
   "source": [
    "list(display_settings.keys())"
   ]
  },
  {
   "cell_type": "code",
   "execution_count": 48,
   "id": "9eb714c6",
   "metadata": {},
   "outputs": [],
   "source": [
    "disp_settings = []\n",
    "group_names = []\n",
    "sources_ = []\n",
    "\n",
    "for ch in display_settings.keys():\n",
    "    ds = display_settings[ch]\n",
    "    ds['contrastLimits'] = [plate_hists[ch].quantile(0.01), plate_hists[ch].quantile(0.99)]\n",
    "    disp_settings.append(ds)\n",
    "    \n",
    "    group_names.append(ch)\n",
    "    \n",
    "    sources_.append(sources[ch])\n",
    "    \n",
    "    create_view(\n",
    "        dataset_folder=join(mobie_project_folder, dataset_name),\n",
    "        view_name=ch,\n",
    "        display_settings=[ds],\n",
    "        display_group_names=[ch],\n",
    "        sources=[sources[ch]],\n",
    "        source_transforms=source_transforms[ch],\n",
    "        menu_name=\"Channels\",\n",
    "        is_exclusive=False,\n",
    "    )"
   ]
  },
  {
   "cell_type": "code",
   "execution_count": 49,
   "id": "367b5727",
   "metadata": {},
   "outputs": [
    {
     "data": {
      "text/plain": [
       "{'C01_Maximum-Projection_FITC_05': ['E07_C01_Maximum-Projection_FITC_05',\n",
       "  'E08_C01_Maximum-Projection_FITC_05'],\n",
       " 'C02_Best-Focus-Projection_FITC_05': ['E07_C02_Best-Focus-Projection_FITC_05',\n",
       "  'E08_C02_Best-Focus-Projection_FITC_05'],\n",
       " 'C03_Maximum-Projection_FITC_05': ['E07_C03_Maximum-Projection_FITC_05',\n",
       "  'E08_C03_Maximum-Projection_FITC_05'],\n",
       " 'C04_empty': ['E07_C04_empty', 'E08_C04_empty']}"
      ]
     },
     "execution_count": 49,
     "metadata": {},
     "output_type": "execute_result"
    }
   ],
   "source": [
    "sources"
   ]
  },
  {
   "cell_type": "code",
   "execution_count": 50,
   "id": "8b3ccf88",
   "metadata": {},
   "outputs": [],
   "source": [
    "well_sources = {}\n",
    "\n",
    "for ch in sources.keys():    \n",
    "    for well in sources[ch]:\n",
    "        if well[:3] not in well_sources.keys():\n",
    "            well_sources[well[:3]] = [well]\n",
    "        else:\n",
    "            well_sources[well[:3]].append(well)"
   ]
  },
  {
   "cell_type": "code",
   "execution_count": 51,
   "id": "038e1284",
   "metadata": {
    "scrolled": true
   },
   "outputs": [
    {
     "data": {
      "text/plain": [
       "{'E07': ['E07_C01_Maximum-Projection_FITC_05',\n",
       "  'E07_C02_Best-Focus-Projection_FITC_05',\n",
       "  'E07_C03_Maximum-Projection_FITC_05',\n",
       "  'E07_C04_empty'],\n",
       " 'E08': ['E08_C01_Maximum-Projection_FITC_05',\n",
       "  'E08_C02_Best-Focus-Projection_FITC_05',\n",
       "  'E08_C03_Maximum-Projection_FITC_05',\n",
       "  'E08_C04_empty']}"
      ]
     },
     "execution_count": 51,
     "metadata": {},
     "output_type": "execute_result"
    }
   ],
   "source": [
    "well_sources"
   ]
  },
  {
   "cell_type": "code",
   "execution_count": 52,
   "id": "2d50e19e",
   "metadata": {
    "scrolled": true
   },
   "outputs": [],
   "source": [
    "region_disp = get_region_display(\"wells\", well_sources, table_source=\"wells\", lut=\"glasbey\", opacity=0.5, visible=True)"
   ]
  },
  {
   "cell_type": "code",
   "execution_count": 53,
   "id": "180d5d03",
   "metadata": {},
   "outputs": [
    {
     "data": {
      "text/plain": [
       "{'regionDisplay': {'opacity': 0.5,\n",
       "  'lut': 'glasbey',\n",
       "  'name': 'wells',\n",
       "  'sources': {'E07': ['E07_C01_Maximum-Projection_FITC_05',\n",
       "    'E07_C02_Best-Focus-Projection_FITC_05',\n",
       "    'E07_C03_Maximum-Projection_FITC_05',\n",
       "    'E07_C04_empty'],\n",
       "   'E08': ['E08_C01_Maximum-Projection_FITC_05',\n",
       "    'E08_C02_Best-Focus-Projection_FITC_05',\n",
       "    'E08_C03_Maximum-Projection_FITC_05',\n",
       "    'E08_C04_empty']},\n",
       "  'tableSource': 'wells',\n",
       "  'visible': True}}"
      ]
     },
     "execution_count": 53,
     "metadata": {},
     "output_type": "execute_result"
    }
   ],
   "source": [
    "region_disp"
   ]
  },
  {
   "cell_type": "code",
   "execution_count": 54,
   "id": "94406892",
   "metadata": {},
   "outputs": [],
   "source": [
    "create_view(\n",
    "    dataset_folder=join(mobie_project_folder, dataset_name),\n",
    "    view_name=\"Projections\",\n",
    "    display_settings=disp_settings,\n",
    "    display_group_names=group_names,\n",
    "    sources=sources_,\n",
    "    source_transforms=src_trafos,\n",
    "    region_displays={\n",
    "        'Wells': {\n",
    "            'opacity': 0.5,\n",
    "            'lut': 'glasbey',\n",
    "            'sources': well_sources,\n",
    "            'tableSource': 'wells',\n",
    "            'visible': True,\n",
    "            'showAsBoundaries': True,\n",
    "        }\n",
    "    },\n",
    "    menu_name=\"Overview\",\n",
    ")"
   ]
  },
  {
   "cell_type": "code",
   "execution_count": 55,
   "id": "5670e68f",
   "metadata": {
    "scrolled": false
   },
   "outputs": [
    {
     "name": "stderr",
     "output_type": "stream",
     "text": [
      "Check sources for dataset Projection-Mix: 100%|███████████████████████████████████████████████████████████████████████████████████████████████████████████████████████████████████| 17/17 [00:00<00:00, 195.79it/s]\n",
      "Check views for dataset Projection-Mix: 100%|██████████████████████████████████████████████████████████████████████████████████████████████████████████████████████████████████████| 26/26 [00:00<00:00, 67.81it/s]\n",
      "Check view files for dataset Projection-Mix: 0it [00:00, ?it/s]"
     ]
    },
    {
     "name": "stdout",
     "output_type": "stream",
     "text": [
      "The project at ./mobie-projects/Z-Stack is a valid MoBIE project.\n"
     ]
    },
    {
     "name": "stderr",
     "output_type": "stream",
     "text": [
      "\n"
     ]
    }
   ],
   "source": [
    "mobie.validation.validate_project(mobie_project_folder)"
   ]
  },
  {
   "cell_type": "code",
   "execution_count": null,
   "id": "517c4a55",
   "metadata": {},
   "outputs": [],
   "source": []
  }
 ],
 "metadata": {
  "kernelspec": {
   "display_name": "Python 3 (ipykernel)",
   "language": "python",
   "name": "python3"
  },
  "language_info": {
   "codemirror_mode": {
    "name": "ipython",
    "version": 3
   },
   "file_extension": ".py",
   "mimetype": "text/x-python",
   "name": "python",
   "nbconvert_exporter": "python",
   "pygments_lexer": "ipython3",
   "version": "3.9.0"
  }
 },
 "nbformat": 4,
 "nbformat_minor": 5
}
