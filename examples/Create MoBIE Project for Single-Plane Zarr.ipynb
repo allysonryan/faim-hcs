{
 "cells": [
  {
   "cell_type": "code",
   "execution_count": 1,
   "id": "7a226d02-2fea-4622-a5b9-c9ecdea2cdd2",
   "metadata": {},
   "outputs": [],
   "source": [
    "import os\n",
    "import imageio\n",
    "import mobie\n",
    "import mobie.htm as htm\n",
    "import mobie.metadata as metadata\n",
    "\n",
    "import ome_zarr"
   ]
  },
  {
   "cell_type": "code",
   "execution_count": 2,
   "id": "69678ada",
   "metadata": {},
   "outputs": [],
   "source": [
    "from ome_zarr.io import parse_url\n",
    "import zarr"
   ]
  },
  {
   "cell_type": "code",
   "execution_count": 3,
   "id": "0a41f668-d4b8-4f08-bfd4-89ce7eb12846",
   "metadata": {},
   "outputs": [],
   "source": [
    "from os.path import join"
   ]
  },
  {
   "cell_type": "code",
   "execution_count": 4,
   "id": "8e270586-8359-4e9e-bc83-dd542be309fe",
   "metadata": {},
   "outputs": [],
   "source": [
    "from mobie.metadata.project_metadata import create_project_metadata, add_dataset\n",
    "from mobie.metadata.dataset_metadata import create_dataset_structure, create_dataset_metadata\n",
    "from mobie.metadata.source_metadata import add_source_to_dataset, add_regions_to_dataset"
   ]
  },
  {
   "cell_type": "code",
   "execution_count": 5,
   "id": "0b2d4ecc-b89e-433e-9f6b-75cc11ad8c2a",
   "metadata": {},
   "outputs": [],
   "source": [
    "from mobie.view_utils import create_view\n",
    "from mobie.metadata import get_default_view, add_view_to_dataset"
   ]
  },
  {
   "cell_type": "code",
   "execution_count": 6,
   "id": "8a0c089e",
   "metadata": {},
   "outputs": [],
   "source": [
    "plate_path = \"./zarr-files/Single-Plane.zarr/\"\n",
    "store = parse_url(plate_path, mode=\"w\").store\n",
    "    \n",
    "plate = zarr.group(store=store)"
   ]
  },
  {
   "cell_type": "code",
   "execution_count": 7,
   "id": "4140329d-ca5b-4d44-8b34-07e044a8fe48",
   "metadata": {},
   "outputs": [],
   "source": [
    "mobie_project_folder = \"./mobie-projects/2D-Demo\""
   ]
  },
  {
   "cell_type": "code",
   "execution_count": 8,
   "id": "f03d08b0-fe42-4d36-a6fa-dbfc60ef6528",
   "metadata": {},
   "outputs": [],
   "source": [
    "dataset_name = \"Single-Plane\""
   ]
  },
  {
   "cell_type": "code",
   "execution_count": 9,
   "id": "02fe3b23",
   "metadata": {},
   "outputs": [],
   "source": [
    "create_project_metadata(mobie_project_folder)"
   ]
  },
  {
   "cell_type": "code",
   "execution_count": 10,
   "id": "fa6db36a-4c17-412c-a6a2-b5800709873b",
   "metadata": {},
   "outputs": [
    {
     "data": {
      "text/plain": [
       "'./mobie-projects/2D-Demo/Single-Plane'"
      ]
     },
     "execution_count": 10,
     "metadata": {},
     "output_type": "execute_result"
    }
   ],
   "source": [
    "create_dataset_structure(mobie_project_folder, dataset_name, file_formats=[\"ome.zarr\"])"
   ]
  },
  {
   "cell_type": "code",
   "execution_count": 11,
   "id": "5f940ebd-2d8b-4357-8562-3127001b58ff",
   "metadata": {},
   "outputs": [],
   "source": [
    "create_dataset_metadata(join(mobie_project_folder, dataset_name), is2d=True)"
   ]
  },
  {
   "cell_type": "code",
   "execution_count": 12,
   "id": "47da13ae-4fdd-482c-9b0e-6511ffe407ae",
   "metadata": {},
   "outputs": [],
   "source": [
    "add_dataset(mobie_project_folder, dataset_name, is_default=True)"
   ]
  },
  {
   "cell_type": "code",
   "execution_count": 13,
   "id": "71fd59f1-3837-4a27-a356-a52aa495d62e",
   "metadata": {},
   "outputs": [],
   "source": [
    "from mobie.view_utils import create_grid_view"
   ]
  },
  {
   "cell_type": "code",
   "execution_count": 14,
   "id": "48684798",
   "metadata": {},
   "outputs": [],
   "source": [
    "sources = {}\n",
    "positions = {}\n",
    "colors = {}\n",
    "well_sources = {}\n",
    "histograms = {}"
   ]
  },
  {
   "cell_type": "code",
   "execution_count": 15,
   "id": "d7789903",
   "metadata": {},
   "outputs": [],
   "source": [
    "import string\n",
    "def to_position(well_name):\n",
    "    r,c = well_name[0], well_name[1:]\n",
    "    r = string.ascii_uppercase.index(r)\n",
    "    c = int(c) - 1\n",
    "    return [c, r]"
   ]
  },
  {
   "cell_type": "code",
   "execution_count": 16,
   "id": "2b87cf76",
   "metadata": {},
   "outputs": [],
   "source": [
    "def hex_to_rgba(h):\n",
    "    return f\"r={int(h[0:2], 16)},g={int(h[2:4], 16)},b={int(h[4:6], 16)},a=255\""
   ]
  },
  {
   "cell_type": "code",
   "execution_count": 17,
   "id": "f4d90892",
   "metadata": {},
   "outputs": [],
   "source": [
    "from mobie.view_utils import create_view"
   ]
  },
  {
   "cell_type": "code",
   "execution_count": 18,
   "id": "e92b18da",
   "metadata": {},
   "outputs": [],
   "source": [
    "from faim_hcs.UIntHistogram import UIntHistogram"
   ]
  },
  {
   "cell_type": "code",
   "execution_count": 19,
   "id": "fbe3f417",
   "metadata": {},
   "outputs": [
    {
     "name": "stdout",
     "output_type": "stream",
     "text": [
      "E07\n",
      "FITC_05\n",
      "FITC_05\n",
      "FITC_05\n",
      "empty\n",
      "\n",
      "E08\n",
      "FITC_05\n",
      "FITC_05\n",
      "FITC_05\n",
      "empty\n",
      "\n"
     ]
    }
   ],
   "source": [
    "for row in plate.group_keys():\n",
    "    for col in plate[row].group_keys():\n",
    "        attrs = plate[row][col][0].attrs.asdict()\n",
    "        print(row + col.zfill(2))\n",
    "        for i, ch in enumerate(attrs[\"omero\"][\"channels\"]):\n",
    "            print(ch[\"label\"])\n",
    "            if ch[\"label\"] != \"empty\":\n",
    "                label = ch[\"label\"].replace(\" \", \"_\")\n",
    "                label = f\"C{str(i).zfill(2)}_\" + label\n",
    "                name = label + \"_\" + row + col.zfill(2)\n",
    "                path = join(plate.store.path, row, col, \"0\")\n",
    "                hist = UIntHistogram.load(join(path, f\"{label}_histogram.npz\"))\n",
    "                histograms[name] = hist\n",
    "                add_source_to_dataset(join(mobie_project_folder, dataset_name), \"image\", name, file_format=\"ome.zarr\", \n",
    "                         image_metadata_path=path, channel=i,\n",
    "                                     view={})\n",
    "                create_view(join(mobie_project_folder, dataset_name), view_name=name, \n",
    "                                                      sources=[[name]],\n",
    "                    display_settings=[{\"color\": hex_to_rgba(ch[\"color\"]), \n",
    "                                       \"contrastLimits\": [hist.quantile(0.01), hist.quantile(0.99)]}], \n",
    "                            display_group_names=[name],\n",
    "                is_exclusive=False, menu_name=\"wells\")\n",
    "\n",
    "                well = row + col.zfill(2)\n",
    "                if well not in well_sources.keys():\n",
    "                    well_sources[well] = [name]\n",
    "                else:\n",
    "                    well_sources[well].append(name)\n",
    "\n",
    "                if label not in sources.keys():\n",
    "                    sources[label] = [name]\n",
    "                else:\n",
    "                    sources[label].append(name)\n",
    "\n",
    "                if label not in positions.keys():\n",
    "                    positions[label] = [to_position(row + col)]\n",
    "                else:\n",
    "                    positions[label].append(to_position(row + col))\n",
    "\n",
    "                colors[label] = hex_to_rgba(ch[\"color\"])\n",
    "        print()"
   ]
  },
  {
   "cell_type": "code",
   "execution_count": 20,
   "id": "17288d73-e7b0-4833-aabc-4ffb93acd414",
   "metadata": {},
   "outputs": [],
   "source": [
    "from mobie.view_utils import create_view"
   ]
  },
  {
   "cell_type": "code",
   "execution_count": 21,
   "id": "4482e86d-1cb9-42eb-911c-bdc9ceb70f75",
   "metadata": {},
   "outputs": [
    {
     "data": {
      "text/plain": [
       "{'C00_FITC_05': ['C00_FITC_05_E07', 'C00_FITC_05_E08'],\n",
       " 'C01_FITC_05': ['C01_FITC_05_E07', 'C01_FITC_05_E08'],\n",
       " 'C02_FITC_05': ['C02_FITC_05_E07', 'C02_FITC_05_E08']}"
      ]
     },
     "execution_count": 21,
     "metadata": {},
     "output_type": "execute_result"
    }
   ],
   "source": [
    "sources"
   ]
  },
  {
   "cell_type": "code",
   "execution_count": 22,
   "id": "32f43e9b-82ce-4410-b278-b375b29a46dd",
   "metadata": {},
   "outputs": [
    {
     "data": {
      "text/plain": [
       "{'C00_FITC_05': [[6, 4], [7, 4]],\n",
       " 'C01_FITC_05': [[6, 4], [7, 4]],\n",
       " 'C02_FITC_05': [[6, 4], [7, 4]]}"
      ]
     },
     "execution_count": 22,
     "metadata": {},
     "output_type": "execute_result"
    }
   ],
   "source": [
    "positions"
   ]
  },
  {
   "cell_type": "code",
   "execution_count": 23,
   "id": "b1a3900b-770c-4a6b-863b-5209c8ddaa0d",
   "metadata": {},
   "outputs": [],
   "source": [
    "from mobie.metadata import get_grid_view, get_merged_grid_source_transform, get_image_display"
   ]
  },
  {
   "cell_type": "code",
   "execution_count": 24,
   "id": "19f2eae2-9f13-439e-b325-dbd67713a7a3",
   "metadata": {},
   "outputs": [],
   "source": [
    "trafos = [get_merged_grid_source_transform(sources=sources[k], \n",
    "                                           merged_source_name=f\"plate_{k}\", \n",
    "                                           positions=positions[k]) for k in sources.keys()]"
   ]
  },
  {
   "cell_type": "code",
   "execution_count": 25,
   "id": "dd3a95a9-2c27-43bd-aab1-ed85952d9a1f",
   "metadata": {},
   "outputs": [
    {
     "data": {
      "text/plain": [
       "[{'mergedGrid': {'sources': ['C00_FITC_05_E07', 'C00_FITC_05_E08'],\n",
       "   'mergedGridSourceName': 'plate_C00_FITC_05',\n",
       "   'positions': [[6, 4], [7, 4]]}},\n",
       " {'mergedGrid': {'sources': ['C01_FITC_05_E07', 'C01_FITC_05_E08'],\n",
       "   'mergedGridSourceName': 'plate_C01_FITC_05',\n",
       "   'positions': [[6, 4], [7, 4]]}},\n",
       " {'mergedGrid': {'sources': ['C02_FITC_05_E07', 'C02_FITC_05_E08'],\n",
       "   'mergedGridSourceName': 'plate_C02_FITC_05',\n",
       "   'positions': [[6, 4], [7, 4]]}}]"
      ]
     },
     "execution_count": 25,
     "metadata": {},
     "output_type": "execute_result"
    }
   ],
   "source": [
    "trafos"
   ]
  },
  {
   "cell_type": "code",
   "execution_count": 26,
   "id": "e2d80829",
   "metadata": {},
   "outputs": [
    {
     "data": {
      "text/plain": [
       "dict_keys(['C00_FITC_05', 'C01_FITC_05', 'C02_FITC_05'])"
      ]
     },
     "execution_count": 26,
     "metadata": {},
     "output_type": "execute_result"
    }
   ],
   "source": [
    "sources.keys()"
   ]
  },
  {
   "cell_type": "code",
   "execution_count": 27,
   "id": "c768c733",
   "metadata": {},
   "outputs": [
    {
     "data": {
      "text/plain": [
       "dict_keys(['C00_FITC_05_E07', 'C01_FITC_05_E07', 'C02_FITC_05_E07', 'C00_FITC_05_E08', 'C01_FITC_05_E08', 'C02_FITC_05_E08'])"
      ]
     },
     "execution_count": 27,
     "metadata": {},
     "output_type": "execute_result"
    }
   ],
   "source": [
    "histograms.keys()"
   ]
  },
  {
   "cell_type": "code",
   "execution_count": 28,
   "id": "5e82de98",
   "metadata": {},
   "outputs": [],
   "source": [
    "from copy import copy\n",
    "def accumulate_histograms(histograms, prefix=\"DAPI\"):\n",
    "    histogram = None\n",
    "    for k in histograms.keys():\n",
    "        if k.startswith(prefix):\n",
    "            if histogram is None:\n",
    "                histogram = copy(histograms[k])\n",
    "            else:\n",
    "                histogram.combine(histograms[k])\n",
    "        \n",
    "    return histogram"
   ]
  },
  {
   "cell_type": "code",
   "execution_count": 29,
   "id": "36056245",
   "metadata": {
    "scrolled": false
   },
   "outputs": [],
   "source": [
    "displays = []\n",
    "for k in sources.keys():\n",
    "    plate_hist = accumulate_histograms(histograms, prefix=k)\n",
    "    displays.append(get_image_display(k, \n",
    "                              [f\"plate_{k}\"], \n",
    "                              contrastLimits=[plate_hist.quantile(0.01), plate_hist.quantile(0.99)], \n",
    "                              color=colors[k], visible=True))"
   ]
  },
  {
   "cell_type": "code",
   "execution_count": 30,
   "id": "5f79b30a",
   "metadata": {},
   "outputs": [],
   "source": [
    "import pandas as pd"
   ]
  },
  {
   "cell_type": "code",
   "execution_count": 31,
   "id": "3ecef58c",
   "metadata": {},
   "outputs": [],
   "source": [
    "well_table = pd.DataFrame({\"region_id\": list(well_sources.keys()),\n",
    "                          \"treatment\": [\"Unknown\",]*len(well_sources.keys())})"
   ]
  },
  {
   "cell_type": "code",
   "execution_count": 32,
   "id": "2d386f9f",
   "metadata": {},
   "outputs": [
    {
     "data": {
      "text/plain": [
       "{'E07': ['C00_FITC_05_E07', 'C01_FITC_05_E07', 'C02_FITC_05_E07'],\n",
       " 'E08': ['C00_FITC_05_E08', 'C01_FITC_05_E08', 'C02_FITC_05_E08']}"
      ]
     },
     "execution_count": 32,
     "metadata": {},
     "output_type": "execute_result"
    }
   ],
   "source": [
    "well_sources"
   ]
  },
  {
   "cell_type": "code",
   "execution_count": 33,
   "id": "38fb1c2a",
   "metadata": {},
   "outputs": [],
   "source": [
    "add_regions_to_dataset(join(mobie_project_folder, dataset_name), \"wells\", well_table)"
   ]
  },
  {
   "cell_type": "code",
   "execution_count": 34,
   "id": "00875d1f",
   "metadata": {},
   "outputs": [],
   "source": [
    "from mobie.metadata import get_region_display"
   ]
  },
  {
   "cell_type": "code",
   "execution_count": 35,
   "id": "dc008940",
   "metadata": {},
   "outputs": [],
   "source": [
    "displays.append(get_region_display(\"wells\", well_sources, table_source=\"wells\", lut=\"glasbey\", opacity=0.5, visible=True))"
   ]
  },
  {
   "cell_type": "code",
   "execution_count": 36,
   "id": "e098c057-602a-494a-af1f-61e5a992893f",
   "metadata": {
    "scrolled": true
   },
   "outputs": [
    {
     "data": {
      "text/plain": [
       "[{'imageDisplay': {'color': 'r=115,g=255,b=0,a=255',\n",
       "   'contrastLimits': [142, 23030],\n",
       "   'name': 'C00_FITC_05',\n",
       "   'opacity': 1.0,\n",
       "   'sources': ['plate_C00_FITC_05'],\n",
       "   'visible': True}},\n",
       " {'imageDisplay': {'color': 'r=115,g=255,b=0,a=255',\n",
       "   'contrastLimits': [115, 19267],\n",
       "   'name': 'C01_FITC_05',\n",
       "   'opacity': 1.0,\n",
       "   'sources': ['plate_C01_FITC_05'],\n",
       "   'visible': True}},\n",
       " {'imageDisplay': {'color': 'r=115,g=255,b=0,a=255',\n",
       "   'contrastLimits': [142, 23021],\n",
       "   'name': 'C02_FITC_05',\n",
       "   'opacity': 1.0,\n",
       "   'sources': ['plate_C02_FITC_05'],\n",
       "   'visible': True}},\n",
       " {'regionDisplay': {'opacity': 0.5,\n",
       "   'lut': 'glasbey',\n",
       "   'name': 'wells',\n",
       "   'sources': {'E07': ['C00_FITC_05_E07',\n",
       "     'C01_FITC_05_E07',\n",
       "     'C02_FITC_05_E07'],\n",
       "    'E08': ['C00_FITC_05_E08', 'C01_FITC_05_E08', 'C02_FITC_05_E08']},\n",
       "   'tableSource': 'wells',\n",
       "   'visible': True}}]"
      ]
     },
     "execution_count": 36,
     "metadata": {},
     "output_type": "execute_result"
    }
   ],
   "source": [
    "displays"
   ]
  },
  {
   "cell_type": "code",
   "execution_count": 37,
   "id": "9edb9649-69af-48ed-8675-f5dbeb0d33fe",
   "metadata": {},
   "outputs": [],
   "source": [
    "default_view = {\n",
    "    \"isExclusive\": True,\n",
    "    \"sourceDisplays\": displays,\n",
    "    \"sourceTransforms\": trafos,\n",
    "    \"uiSelectionGroup\": \"bookmark\"\n",
    "}"
   ]
  },
  {
   "cell_type": "code",
   "execution_count": 38,
   "id": "b14bf184-95e5-4030-94c2-563899198ab3",
   "metadata": {},
   "outputs": [],
   "source": [
    "add_view_to_dataset(join(mobie_project_folder, dataset_name), \"default\", default_view)"
   ]
  },
  {
   "cell_type": "code",
   "execution_count": 39,
   "id": "97a5a109",
   "metadata": {},
   "outputs": [
    {
     "name": "stderr",
     "output_type": "stream",
     "text": [
      "Check sources for dataset Single-Plane: 100%|███████████████████████████████████████████████████████████████████████████████████████████████████████████████████████████████████████| 7/7 [00:00<00:00, 174.79it/s]\n",
      "Check views for dataset Single-Plane: 100%|██████████████████████████████████████████████████████████████████████████████████████████████████████████████████████████████████████████| 7/7 [00:00<00:00, 68.58it/s]\n",
      "Check view files for dataset Single-Plane: 0it [00:00, ?it/s]"
     ]
    },
    {
     "name": "stdout",
     "output_type": "stream",
     "text": [
      "The project at ./mobie-projects/2D-Demo is a valid MoBIE project.\n"
     ]
    },
    {
     "name": "stderr",
     "output_type": "stream",
     "text": [
      "\n"
     ]
    }
   ],
   "source": [
    "mobie.validation.validate_project(mobie_project_folder)"
   ]
  },
  {
   "cell_type": "code",
   "execution_count": null,
   "id": "517c4a55",
   "metadata": {},
   "outputs": [],
   "source": []
  }
 ],
 "metadata": {
  "kernelspec": {
   "display_name": "Python 3 (ipykernel)",
   "language": "python",
   "name": "python3"
  },
  "language_info": {
   "codemirror_mode": {
    "name": "ipython",
    "version": 3
   },
   "file_extension": ".py",
   "mimetype": "text/x-python",
   "name": "python",
   "nbconvert_exporter": "python",
   "pygments_lexer": "ipython3",
   "version": "3.9.0"
  }
 },
 "nbformat": 4,
 "nbformat_minor": 5
}
