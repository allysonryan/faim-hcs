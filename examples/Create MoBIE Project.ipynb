{
 "cells": [
  {
   "cell_type": "code",
   "execution_count": 1,
   "id": "69678ada",
   "metadata": {},
   "outputs": [],
   "source": [
    "from ome_zarr.io import parse_url\n",
    "import zarr\n",
    "\n",
    "from os.path import join\n",
    "\n",
    "import mobie\n",
    "from mobie.metadata.project_metadata import create_project_metadata, add_dataset\n",
    "from mobie.metadata.dataset_metadata import create_dataset_structure, create_dataset_metadata\n",
    "\n",
    "from faim_hcs.mobie import add_wells_to_project\n",
    "\n",
    "from os.path import exists\n",
    "import shutil"
   ]
  },
  {
   "cell_type": "markdown",
   "id": "7ef8c617",
   "metadata": {},
   "source": [
    "# MoBIE Project\n",
    "\n",
    "MoBIE is a Fiji viewer to visualize large data like ome-zarr HCS plates. A MoBIE project can hold multiple datasets and each dataset consists of views of different image sources, which can be linked to tabular data. For more information check out the [MoBIE Tutorials]().\n",
    "\n",
    "Citation: [Pape, Constantin, et al. \"MoBIE: a Fiji plugin for sharing and exploration of multi-modal cloud-hosted big image data.\" Nature Methods (2023): 1-2.](https://www.nature.com/articles/s41592-023-01776-4)"
   ]
  },
  {
   "cell_type": "code",
   "execution_count": 2,
   "id": "4140329d-ca5b-4d44-8b34-07e044a8fe48",
   "metadata": {},
   "outputs": [],
   "source": [
    "# The MoBIE project folder and name of the plate/dataset\n",
    "mobie_project_folder = \"./mobie-example-project\""
   ]
  },
  {
   "cell_type": "code",
   "execution_count": 3,
   "id": "02fe3b23",
   "metadata": {
    "scrolled": true
   },
   "outputs": [],
   "source": [
    "if exists(mobie_project_folder):\n",
    "    # Remove if it already exists.\n",
    "    shutil.rmtree(mobie_project_folder)\n",
    "\n",
    "# Create a new empty MoBIE project\n",
    "create_project_metadata(mobie_project_folder)"
   ]
  },
  {
   "cell_type": "markdown",
   "id": "570bccbb",
   "metadata": {},
   "source": [
    "## Add 2D OME-Zarr"
   ]
  },
  {
   "cell_type": "code",
   "execution_count": 4,
   "id": "05b1ab95",
   "metadata": {},
   "outputs": [],
   "source": [
    "dataset_name = \"Single-Plane\""
   ]
  },
  {
   "cell_type": "code",
   "execution_count": 5,
   "id": "fa6db36a-4c17-412c-a6a2-b5800709873b",
   "metadata": {},
   "outputs": [
    {
     "data": {
      "text/plain": [
       "'./mobie-example-project/Single-Plane'"
      ]
     },
     "execution_count": 5,
     "metadata": {},
     "output_type": "execute_result"
    }
   ],
   "source": [
    "# Create a new dataset\n",
    "create_dataset_structure(mobie_project_folder, dataset_name, file_formats=[\"ome.zarr\"])"
   ]
  },
  {
   "cell_type": "code",
   "execution_count": 6,
   "id": "5f940ebd-2d8b-4357-8562-3127001b58ff",
   "metadata": {},
   "outputs": [],
   "source": [
    "# Fill in dataset metadata\n",
    "create_dataset_metadata(\n",
    "    dataset_folder=join(mobie_project_folder, dataset_name), \n",
    "    description=\"A 2D example dataset.\",\n",
    "    is2d=True,\n",
    ")"
   ]
  },
  {
   "cell_type": "code",
   "execution_count": 7,
   "id": "47da13ae-4fdd-482c-9b0e-6511ffe407ae",
   "metadata": {},
   "outputs": [],
   "source": [
    "# Update MoBIE project by adding the new dataset.\n",
    "add_dataset(mobie_project_folder, dataset_name, is_default=False)"
   ]
  },
  {
   "cell_type": "code",
   "execution_count": 8,
   "id": "162844bc",
   "metadata": {},
   "outputs": [],
   "source": [
    "# OME-Zarr plate we want to add to a MoBIE project\n",
    "plate_path = \"./zarr-files/Single-Plane.zarr/\"\n",
    "store = parse_url(plate_path, mode=\"r\").store\n",
    "    \n",
    "plate = zarr.group(store=store)"
   ]
  },
  {
   "cell_type": "code",
   "execution_count": 9,
   "id": "e057207d",
   "metadata": {},
   "outputs": [],
   "source": [
    "# Add CYX wells from OME-Zarr to MoBIE project\n",
    "add_wells_to_project(\n",
    "    plate=plate,\n",
    "    dataset_folder=join(mobie_project_folder, dataset_name),\n",
    "    well_group=\"0\",\n",
    "    view_name=\"default\",\n",
    "    gap=50\n",
    ")"
   ]
  },
  {
   "cell_type": "code",
   "execution_count": 10,
   "id": "97fce82e",
   "metadata": {
    "scrolled": true
   },
   "outputs": [
    {
     "name": "stderr",
     "output_type": "stream",
     "text": [
      "Check sources for dataset Single-Plane: 100%|███████████████████████████████████████████████████████████████████████████████████████████████████████████████████████████████████████| 9/9 [00:00<00:00, 186.40it/s]\n",
      "Check views for dataset Single-Plane: 100%|████████████████████████████████████████████████████████████████████████████████████████████████████████████████████████████████████████| 13/13 [00:00<00:00, 66.15it/s]\n",
      "Check view files for dataset Single-Plane: 0it [00:00, ?it/s]\n"
     ]
    },
    {
     "name": "stdout",
     "output_type": "stream",
     "text": [
      "The project at ./mobie-example-project is a valid MoBIE project.\n"
     ]
    }
   ],
   "source": [
    "# Validate MoBIE project integrety\n",
    "mobie.validation.validate_project(mobie_project_folder)"
   ]
  },
  {
   "cell_type": "markdown",
   "id": "3ba390db",
   "metadata": {},
   "source": [
    "## Add 3D OME-Zarr"
   ]
  },
  {
   "cell_type": "code",
   "execution_count": 11,
   "id": "40ef8c8a",
   "metadata": {},
   "outputs": [],
   "source": [
    "dataset_name = \"Projection-Mix\""
   ]
  },
  {
   "cell_type": "code",
   "execution_count": 12,
   "id": "aa00abb8",
   "metadata": {},
   "outputs": [
    {
     "data": {
      "text/plain": [
       "'./mobie-example-project/Projection-Mix'"
      ]
     },
     "execution_count": 12,
     "metadata": {},
     "output_type": "execute_result"
    }
   ],
   "source": [
    "# Create a new dataset\n",
    "create_dataset_structure(mobie_project_folder, dataset_name, file_formats=[\"ome.zarr\"])"
   ]
  },
  {
   "cell_type": "code",
   "execution_count": 13,
   "id": "ff80691f",
   "metadata": {},
   "outputs": [],
   "source": [
    "# Fill in dataset metadata\n",
    "create_dataset_metadata(\n",
    "    dataset_folder=join(mobie_project_folder, dataset_name), \n",
    "    description=\"A 3D projection mix example dataset.\",\n",
    "    is2d=False,\n",
    ")"
   ]
  },
  {
   "cell_type": "code",
   "execution_count": 14,
   "id": "67486c85",
   "metadata": {},
   "outputs": [],
   "source": [
    "# Update MoBIE project by adding the new dataset.\n",
    "add_dataset(mobie_project_folder, dataset_name, is_default=True)"
   ]
  },
  {
   "cell_type": "code",
   "execution_count": 15,
   "id": "a83fecb0",
   "metadata": {},
   "outputs": [],
   "source": [
    "# OME-Zarr plate we want to add to a MoBIE project\n",
    "plate_path = \"./zarr-files/Projection-Mix.zarr/\"\n",
    "store = parse_url(plate_path, mode=\"r\").store\n",
    "    \n",
    "plate = zarr.group(store=store)"
   ]
  },
  {
   "cell_type": "code",
   "execution_count": 16,
   "id": "43ffff1b",
   "metadata": {},
   "outputs": [],
   "source": [
    "# Add CZYX wells from OME-Zarr to MoBIE project\n",
    "add_wells_to_project(\n",
    "    plate=plate,\n",
    "    dataset_folder=join(mobie_project_folder, dataset_name),\n",
    "    well_group=\"0\",\n",
    "    view_name=\"default\",\n",
    "    gap=50\n",
    ")"
   ]
  },
  {
   "cell_type": "code",
   "execution_count": 17,
   "id": "6acd8ae2",
   "metadata": {},
   "outputs": [],
   "source": [
    "# Add CYX well projections from OME-Zarr to MoBIE project\n",
    "add_wells_to_project(\n",
    "    plate=plate,\n",
    "    dataset_folder=join(mobie_project_folder, dataset_name),\n",
    "    well_group=\"0/projections\",\n",
    "    view_name=\"Projections\",\n",
    "    gap=50\n",
    ")"
   ]
  },
  {
   "cell_type": "code",
   "execution_count": 18,
   "id": "cdbf872c",
   "metadata": {
    "scrolled": false
   },
   "outputs": [
    {
     "name": "stderr",
     "output_type": "stream",
     "text": [
      "Check sources for dataset Single-Plane: 100%|███████████████████████████████████████████████████████████████████████████████████████████████████████████████████████████████████████| 9/9 [00:00<00:00, 201.01it/s]\n",
      "Check views for dataset Single-Plane: 100%|████████████████████████████████████████████████████████████████████████████████████████████████████████████████████████████████████████| 13/13 [00:00<00:00, 71.89it/s]\n",
      "Check view files for dataset Single-Plane: 0it [00:00, ?it/s]\n",
      "Check sources for dataset Projection-Mix: 100%|███████████████████████████████████████████████████████████████████████████████████████████████████████████████████████████████████| 17/17 [00:00<00:00, 206.55it/s]\n",
      "Check views for dataset Projection-Mix: 100%|██████████████████████████████████████████████████████████████████████████████████████████████████████████████████████████████████████| 26/26 [00:00<00:00, 55.53it/s]\n",
      "Check view files for dataset Projection-Mix: 0it [00:00, ?it/s]"
     ]
    },
    {
     "name": "stdout",
     "output_type": "stream",
     "text": [
      "The project at ./mobie-example-project is a valid MoBIE project.\n"
     ]
    },
    {
     "name": "stderr",
     "output_type": "stream",
     "text": [
      "\n"
     ]
    }
   ],
   "source": [
    "# Validate MoBIE project integrety\n",
    "mobie.validation.validate_project(mobie_project_folder)"
   ]
  }
 ],
 "metadata": {
  "kernelspec": {
   "display_name": "Python 3 (ipykernel)",
   "language": "python",
   "name": "python3"
  },
  "language_info": {
   "codemirror_mode": {
    "name": "ipython",
    "version": 3
   },
   "file_extension": ".py",
   "mimetype": "text/x-python",
   "name": "python",
   "nbconvert_exporter": "python",
   "pygments_lexer": "ipython3",
   "version": "3.9.0"
  }
 },
 "nbformat": 4,
 "nbformat_minor": 5
}
