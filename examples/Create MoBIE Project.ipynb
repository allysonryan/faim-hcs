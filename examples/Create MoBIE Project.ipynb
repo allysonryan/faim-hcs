{
 "cells": [
  {
   "cell_type": "code",
   "execution_count": 1,
   "id": "69678ada",
   "metadata": {},
   "outputs": [],
   "source": [
    "from ome_zarr.io import parse_url\n",
    "import zarr\n",
    "\n",
    "from os.path import join\n",
    "\n",
    "import mobie\n",
    "from mobie.metadata.project_metadata import create_project_metadata, add_dataset\n",
    "from mobie.metadata.dataset_metadata import create_dataset_structure, create_dataset_metadata\n",
    "\n",
    "from faim_hcs.mobie import add_wells_to_project\n",
    "\n",
    "from os.path import exists\n",
    "import shutil"
   ]
  },
  {
   "cell_type": "markdown",
   "id": "7ef8c617",
   "metadata": {},
   "source": [
    "# MoBIE Project\n",
    "\n",
    "MoBIE is a Fiji viewer to visualize large data like ome-zarr HCS plates. A MoBIE project can hold multiple datasets and each dataset consists of views of different image sources, which can be linked to tabular data. For more information check out the [MoBIE Tutorials]().\n",
    "\n",
    "Citation: [Pape, Constantin, et al. \"MoBIE: a Fiji plugin for sharing and exploration of multi-modal cloud-hosted big image data.\" Nature Methods (2023): 1-2.](https://www.nature.com/articles/s41592-023-01776-4)"
   ]
  },
  {
   "cell_type": "code",
   "execution_count": 376,
   "id": "4140329d-ca5b-4d44-8b34-07e044a8fe48",
   "metadata": {},
   "outputs": [],
   "source": [
    "# The MoBIE project folder and name of the plate/dataset\n",
    "mobie_project_folder = \"./mobie-example-project\""
   ]
  },
  {
   "cell_type": "code",
   "execution_count": 377,
   "id": "02fe3b23",
   "metadata": {
    "scrolled": true
   },
   "outputs": [],
   "source": [
    "if exists(mobie_project_folder):\n",
    "    # Remove if it already exists.\n",
    "    shutil.rmtree(mobie_project_folder)\n",
    "\n",
    "# Create a new empty MoBIE project\n",
    "create_project_metadata(mobie_project_folder)"
   ]
  },
  {
   "cell_type": "markdown",
   "id": "3ba390db",
   "metadata": {},
   "source": [
    "## Add 3D OME-Zarr"
   ]
  },
  {
   "cell_type": "code",
   "execution_count": 378,
   "id": "40ef8c8a",
   "metadata": {},
   "outputs": [],
   "source": [
    "dataset_name = \"Projection-Mix\""
   ]
  },
  {
   "cell_type": "code",
   "execution_count": 379,
   "id": "aa00abb8",
   "metadata": {},
   "outputs": [
    {
     "data": {
      "text/plain": [
       "'./mobie-example-project/Projection-Mix'"
      ]
     },
     "execution_count": 379,
     "metadata": {},
     "output_type": "execute_result"
    }
   ],
   "source": [
    "# Create a new dataset\n",
    "create_dataset_structure(mobie_project_folder, dataset_name, file_formats=[\"ome.zarr\"])"
   ]
  },
  {
   "cell_type": "code",
   "execution_count": 380,
   "id": "ff80691f",
   "metadata": {},
   "outputs": [],
   "source": [
    "# Fill in dataset metadata\n",
    "create_dataset_metadata(\n",
    "    dataset_folder=join(mobie_project_folder, dataset_name), \n",
    "    description=\"A 3D projection mix example dataset.\",\n",
    "    is2d=False,\n",
    ")"
   ]
  },
  {
   "cell_type": "code",
   "execution_count": 381,
   "id": "67486c85",
   "metadata": {},
   "outputs": [],
   "source": [
    "# Update MoBIE project by adding the new dataset.\n",
    "add_dataset(mobie_project_folder, dataset_name, is_default=True)"
   ]
  },
  {
   "cell_type": "code",
   "execution_count": 382,
   "id": "a83fecb0",
   "metadata": {},
   "outputs": [],
   "source": [
    "# OME-Zarr plate we want to add to a MoBIE project\n",
    "plate_path = \"/tungstenfs/scratch/gmicro_hcs/gmicro/eglijan/zarr-files/20230129-pilot plate 1-240123C-DMSO.zarr\"\n",
    "store = parse_url(plate_path, mode=\"r\").store\n",
    "    \n",
    "plate = zarr.group(store=store)"
   ]
  },
  {
   "cell_type": "code",
   "execution_count": 383,
   "id": "1d2ff209",
   "metadata": {},
   "outputs": [],
   "source": [
    "from mobie.metadata.view_metadata import get_grid_view"
   ]
  },
  {
   "cell_type": "code",
   "execution_count": 384,
   "id": "4a83bc34",
   "metadata": {},
   "outputs": [],
   "source": [
    "from mobie.metadata import (\n",
    "    add_regions_to_dataset,\n",
    "    add_source_to_dataset,\n",
    "    get_default_view,\n",
    ")\n",
    "from faim_hcs.UIntHistogram import UIntHistogram\n",
    "from faim_hcs.mobie import hex_to_rgba"
   ]
  },
  {
   "cell_type": "code",
   "execution_count": 385,
   "id": "ed54d6e8",
   "metadata": {},
   "outputs": [],
   "source": [
    "from mobie.view_utils import create_grid_view\n",
    "from tqdm.notebook import tqdm"
   ]
  },
  {
   "cell_type": "code",
   "execution_count": 386,
   "id": "a6b61452",
   "metadata": {},
   "outputs": [],
   "source": [
    "from copy import copy"
   ]
  },
  {
   "cell_type": "code",
   "execution_count": 387,
   "id": "7221b802",
   "metadata": {
    "scrolled": true
   },
   "outputs": [
    {
     "data": {
      "application/vnd.jupyter.widget-view+json": {
       "model_id": "ad427284561b45ffb062aab991635356",
       "version_major": 2,
       "version_minor": 0
      },
      "text/plain": [
       "  0%|          | 0/16 [00:00<?, ?it/s]"
      ]
     },
     "metadata": {},
     "output_type": "display_data"
    },
    {
     "data": {
      "application/vnd.jupyter.widget-view+json": {
       "model_id": "",
       "version_major": 2,
       "version_minor": 0
      },
      "text/plain": [
       "  0%|          | 0/24 [00:00<?, ?it/s]"
      ]
     },
     "metadata": {},
     "output_type": "display_data"
    },
    {
     "data": {
      "application/vnd.jupyter.widget-view+json": {
       "model_id": "",
       "version_major": 2,
       "version_minor": 0
      },
      "text/plain": [
       "  0%|          | 0/24 [00:00<?, ?it/s]"
      ]
     },
     "metadata": {},
     "output_type": "display_data"
    },
    {
     "data": {
      "application/vnd.jupyter.widget-view+json": {
       "model_id": "",
       "version_major": 2,
       "version_minor": 0
      },
      "text/plain": [
       "  0%|          | 0/24 [00:00<?, ?it/s]"
      ]
     },
     "metadata": {},
     "output_type": "display_data"
    },
    {
     "data": {
      "application/vnd.jupyter.widget-view+json": {
       "model_id": "",
       "version_major": 2,
       "version_minor": 0
      },
      "text/plain": [
       "  0%|          | 0/24 [00:00<?, ?it/s]"
      ]
     },
     "metadata": {},
     "output_type": "display_data"
    },
    {
     "data": {
      "application/vnd.jupyter.widget-view+json": {
       "model_id": "",
       "version_major": 2,
       "version_minor": 0
      },
      "text/plain": [
       "  0%|          | 0/24 [00:00<?, ?it/s]"
      ]
     },
     "metadata": {},
     "output_type": "display_data"
    },
    {
     "data": {
      "application/vnd.jupyter.widget-view+json": {
       "model_id": "",
       "version_major": 2,
       "version_minor": 0
      },
      "text/plain": [
       "  0%|          | 0/24 [00:00<?, ?it/s]"
      ]
     },
     "metadata": {},
     "output_type": "display_data"
    },
    {
     "data": {
      "application/vnd.jupyter.widget-view+json": {
       "model_id": "",
       "version_major": 2,
       "version_minor": 0
      },
      "text/plain": [
       "  0%|          | 0/24 [00:00<?, ?it/s]"
      ]
     },
     "metadata": {},
     "output_type": "display_data"
    },
    {
     "data": {
      "application/vnd.jupyter.widget-view+json": {
       "model_id": "",
       "version_major": 2,
       "version_minor": 0
      },
      "text/plain": [
       "  0%|          | 0/24 [00:00<?, ?it/s]"
      ]
     },
     "metadata": {},
     "output_type": "display_data"
    },
    {
     "data": {
      "application/vnd.jupyter.widget-view+json": {
       "model_id": "",
       "version_major": 2,
       "version_minor": 0
      },
      "text/plain": [
       "  0%|          | 0/24 [00:00<?, ?it/s]"
      ]
     },
     "metadata": {},
     "output_type": "display_data"
    },
    {
     "data": {
      "application/vnd.jupyter.widget-view+json": {
       "model_id": "",
       "version_major": 2,
       "version_minor": 0
      },
      "text/plain": [
       "  0%|          | 0/24 [00:00<?, ?it/s]"
      ]
     },
     "metadata": {},
     "output_type": "display_data"
    },
    {
     "data": {
      "application/vnd.jupyter.widget-view+json": {
       "model_id": "",
       "version_major": 2,
       "version_minor": 0
      },
      "text/plain": [
       "  0%|          | 0/24 [00:00<?, ?it/s]"
      ]
     },
     "metadata": {},
     "output_type": "display_data"
    },
    {
     "data": {
      "application/vnd.jupyter.widget-view+json": {
       "model_id": "",
       "version_major": 2,
       "version_minor": 0
      },
      "text/plain": [
       "  0%|          | 0/24 [00:00<?, ?it/s]"
      ]
     },
     "metadata": {},
     "output_type": "display_data"
    },
    {
     "data": {
      "application/vnd.jupyter.widget-view+json": {
       "model_id": "",
       "version_major": 2,
       "version_minor": 0
      },
      "text/plain": [
       "  0%|          | 0/24 [00:00<?, ?it/s]"
      ]
     },
     "metadata": {},
     "output_type": "display_data"
    },
    {
     "data": {
      "application/vnd.jupyter.widget-view+json": {
       "model_id": "",
       "version_major": 2,
       "version_minor": 0
      },
      "text/plain": [
       "  0%|          | 0/24 [00:00<?, ?it/s]"
      ]
     },
     "metadata": {},
     "output_type": "display_data"
    },
    {
     "data": {
      "application/vnd.jupyter.widget-view+json": {
       "model_id": "",
       "version_major": 2,
       "version_minor": 0
      },
      "text/plain": [
       "  0%|          | 0/24 [00:00<?, ?it/s]"
      ]
     },
     "metadata": {},
     "output_type": "display_data"
    },
    {
     "data": {
      "application/vnd.jupyter.widget-view+json": {
       "model_id": "",
       "version_major": 2,
       "version_minor": 0
      },
      "text/plain": [
       "  0%|          | 0/24 [00:00<?, ?it/s]"
      ]
     },
     "metadata": {},
     "output_type": "display_data"
    }
   ],
   "source": [
    "sources = {}\n",
    "# source_transforms = {}\n",
    "# display_settings = {}\n",
    "plate_hists = {}\n",
    "\n",
    "well_group = \"0\"\n",
    "dataset_folder = join(mobie_project_folder, dataset_name)\n",
    "\n",
    "# Add wells as individual sources\n",
    "wells = []\n",
    "for i, row in enumerate(tqdm(list(plate.group_keys()))):\n",
    "    for j, col in enumerate(tqdm(list(plate[row].group_keys()), leave=False)):\n",
    "        attrs = plate[row][col][well_group].attrs.asdict()\n",
    "        wells.append(row + col.zfill(2))\n",
    "        path = join(plate.store.path, row, col, well_group)\n",
    "\n",
    "        hists = [\n",
    "            UIntHistogram.load(join(path, h_path)) for h_path in attrs[\"histograms\"]\n",
    "        ]\n",
    "        \n",
    "        group_name = f\"{row}{col.zfill(2)}\"\n",
    "        scale = attrs[\"multiscales\"][0][\"datasets\"][0][\"coordinateTransformations\"][0][\n",
    "            \"scale\"\n",
    "        ]\n",
    "        y_spacing, x_spacing = scale[-2], scale[-1]\n",
    "\n",
    "        for k, ch in enumerate(attrs[\"omero\"][\"channels\"]):\n",
    "            key = f\"{ch['wavelength_id']}_{ch['label']}\"\n",
    "\n",
    "            name = f\"{group_name}_{key}\"\n",
    "            view = get_default_view(\n",
    "                source_type=\"image\",\n",
    "                source_name=name,\n",
    "                menu_name=\"Wells\",\n",
    "                color=hex_to_rgba(ch[\"color\"]),\n",
    "                contrastLimits=[hists[k].quantile(0.01), hists[k].quantile(0.99)],\n",
    "                opacity=1.0,\n",
    "                sources=[\n",
    "                    name,\n",
    "                ],\n",
    "            )\n",
    "\n",
    "            add_source_to_dataset(\n",
    "                dataset_folder=dataset_folder,\n",
    "                source_type=\"image\",\n",
    "                source_name=name,\n",
    "                image_metadata_path=path,\n",
    "                file_format=\"ome.zarr\",\n",
    "                channel=k,\n",
    "                view=view,\n",
    "            )\n",
    "            \n",
    "            if key not in sources.keys():\n",
    "                sources[key] = [name]\n",
    "            else:\n",
    "                sources[key].append(name)\n",
    "                \n",
    "            if key not in plate_hists.keys():\n",
    "                plate_hists[key] = copy(hists[k])\n",
    "            else:\n",
    "                plate_hists[key].combine(hists[k])"
   ]
  },
  {
   "cell_type": "code",
   "execution_count": 388,
   "id": "a44d03af",
   "metadata": {},
   "outputs": [],
   "source": [
    "import string\n",
    "def to_position(well_name):\n",
    "    r,c = well_name[0], well_name[1:]\n",
    "    r = string.ascii_uppercase.index(r)\n",
    "    c = int(c) - 1\n",
    "    return [c, r]"
   ]
  },
  {
   "cell_type": "code",
   "execution_count": 389,
   "id": "49195af8",
   "metadata": {},
   "outputs": [
    {
     "data": {
      "text/plain": [
       "['C01_empty', 'C02_DAPI_20', 'C03_FITC', 'C04_Cy5']"
      ]
     },
     "execution_count": 389,
     "metadata": {},
     "output_type": "execute_result"
    }
   ],
   "source": [
    "list(sources.keys())"
   ]
  },
  {
   "cell_type": "code",
   "execution_count": 390,
   "id": "19e0a7a0",
   "metadata": {},
   "outputs": [],
   "source": [
    "from mobie.metadata import add_view_to_dataset"
   ]
  },
  {
   "cell_type": "code",
   "execution_count": 391,
   "id": "95205b2a",
   "metadata": {},
   "outputs": [],
   "source": [
    "default = {\n",
    "    \"isExclusive\": True,\n",
    "    \"sourceDisplays\": [],\n",
    "    \"sourceTransforms\": [],\n",
    "    \"uiSelectionGroup\": \"bookmarks\"\n",
    "}\n",
    "for ch in sources.keys():\n",
    "    view = get_grid_view(\n",
    "        dataset_folder=join(mobie_project_folder, dataset_name),\n",
    "        name=ch,\n",
    "        sources=[[src] for src in sources[ch]],\n",
    "        menu_name=\"Channels\",\n",
    "        positions=[to_position(src[:3]) for src in sources[ch]],\n",
    "        use_transformed_grid=False,\n",
    "    )\n",
    "    view['isExclusive'] = False\n",
    "    view['sourceDisplays'][0]['imageDisplay']['contrastLimits'] = [plate_hists[ch].quantile(0.01),\n",
    "                                                                   plate_hists[ch].quantile(0.99)]\n",
    "    add_view_to_dataset(\n",
    "        dataset_folder=join(mobie_project_folder, dataset_name),\n",
    "        view_name=ch,\n",
    "        view=view,\n",
    "        overwrite=True\n",
    "    )\n",
    "    \n",
    "    default['sourceDisplays'].extend(view['sourceDisplays'])\n",
    "    default['sourceTransforms'].extend(view['sourceTransforms'])"
   ]
  },
  {
   "cell_type": "code",
   "execution_count": 392,
   "id": "23f19e83",
   "metadata": {},
   "outputs": [],
   "source": [
    "from mobie.metadata import create_region_display, add_regions_to_dataset"
   ]
  },
  {
   "cell_type": "code",
   "execution_count": 393,
   "id": "940f63e1",
   "metadata": {},
   "outputs": [],
   "source": [
    "well_table = pd.DataFrame(\n",
    "    {\n",
    "        \"region_id\": wells,\n",
    "        \"treatment\": [\n",
    "            \"Unknown\",\n",
    "        ] * len(wells)\n",
    "    }\n",
    ")"
   ]
  },
  {
   "cell_type": "code",
   "execution_count": 394,
   "id": "24945f8c",
   "metadata": {
    "scrolled": true
   },
   "outputs": [
    {
     "data": {
      "text/html": [
       "<div>\n",
       "<style scoped>\n",
       "    .dataframe tbody tr th:only-of-type {\n",
       "        vertical-align: middle;\n",
       "    }\n",
       "\n",
       "    .dataframe tbody tr th {\n",
       "        vertical-align: top;\n",
       "    }\n",
       "\n",
       "    .dataframe thead th {\n",
       "        text-align: right;\n",
       "    }\n",
       "</style>\n",
       "<table border=\"1\" class=\"dataframe\">\n",
       "  <thead>\n",
       "    <tr style=\"text-align: right;\">\n",
       "      <th></th>\n",
       "      <th>region_id</th>\n",
       "      <th>treatment</th>\n",
       "    </tr>\n",
       "  </thead>\n",
       "  <tbody>\n",
       "    <tr>\n",
       "      <th>0</th>\n",
       "      <td>A01</td>\n",
       "      <td>Unknown</td>\n",
       "    </tr>\n",
       "    <tr>\n",
       "      <th>1</th>\n",
       "      <td>A10</td>\n",
       "      <td>Unknown</td>\n",
       "    </tr>\n",
       "    <tr>\n",
       "      <th>2</th>\n",
       "      <td>A11</td>\n",
       "      <td>Unknown</td>\n",
       "    </tr>\n",
       "    <tr>\n",
       "      <th>3</th>\n",
       "      <td>A12</td>\n",
       "      <td>Unknown</td>\n",
       "    </tr>\n",
       "    <tr>\n",
       "      <th>4</th>\n",
       "      <td>A13</td>\n",
       "      <td>Unknown</td>\n",
       "    </tr>\n",
       "    <tr>\n",
       "      <th>...</th>\n",
       "      <td>...</td>\n",
       "      <td>...</td>\n",
       "    </tr>\n",
       "    <tr>\n",
       "      <th>379</th>\n",
       "      <td>P05</td>\n",
       "      <td>Unknown</td>\n",
       "    </tr>\n",
       "    <tr>\n",
       "      <th>380</th>\n",
       "      <td>P06</td>\n",
       "      <td>Unknown</td>\n",
       "    </tr>\n",
       "    <tr>\n",
       "      <th>381</th>\n",
       "      <td>P07</td>\n",
       "      <td>Unknown</td>\n",
       "    </tr>\n",
       "    <tr>\n",
       "      <th>382</th>\n",
       "      <td>P08</td>\n",
       "      <td>Unknown</td>\n",
       "    </tr>\n",
       "    <tr>\n",
       "      <th>383</th>\n",
       "      <td>P09</td>\n",
       "      <td>Unknown</td>\n",
       "    </tr>\n",
       "  </tbody>\n",
       "</table>\n",
       "<p>384 rows × 2 columns</p>\n",
       "</div>"
      ],
      "text/plain": [
       "    region_id treatment\n",
       "0         A01   Unknown\n",
       "1         A10   Unknown\n",
       "2         A11   Unknown\n",
       "3         A12   Unknown\n",
       "4         A13   Unknown\n",
       "..        ...       ...\n",
       "379       P05   Unknown\n",
       "380       P06   Unknown\n",
       "381       P07   Unknown\n",
       "382       P08   Unknown\n",
       "383       P09   Unknown\n",
       "\n",
       "[384 rows x 2 columns]"
      ]
     },
     "execution_count": 394,
     "metadata": {},
     "output_type": "execute_result"
    }
   ],
   "source": [
    "well_table"
   ]
  },
  {
   "cell_type": "code",
   "execution_count": 395,
   "id": "cb58b6b0",
   "metadata": {},
   "outputs": [],
   "source": [
    "add_regions_to_dataset(\n",
    "    join(mobie_project_folder, dataset_name), \n",
    "    \"wells\",\n",
    "    well_table,\n",
    ")"
   ]
  },
  {
   "cell_type": "code",
   "execution_count": 396,
   "id": "d3718c4a",
   "metadata": {},
   "outputs": [],
   "source": [
    "region_sources = {}\n",
    "for channel_wells in sources.values():\n",
    "    \n",
    "    for well in channel_wells:\n",
    "        if well[:3] not in region_sources.keys():\n",
    "            region_sources[well[:3]] = [well]\n",
    "        else:\n",
    "            region_sources[well[:3]].append(well)\n",
    "            "
   ]
  },
  {
   "cell_type": "code",
   "execution_count": 397,
   "id": "26c6bc6a",
   "metadata": {},
   "outputs": [],
   "source": [
    "default['sourceDisplays'].append(\n",
    "    {\n",
    "        \"regionDisplay\": {\n",
    "                \"opacity\": 0.5,\n",
    "                \"lut\": \"glasbey\",\n",
    "                \"name\": \"Wells\",\n",
    "                \"sources\": region_sources,\n",
    "                \"tableSource\": \"wells\",\n",
    "                \"visible\": True,\n",
    "                \"showAsBoundaries\": True,\n",
    "            }\n",
    "    }\n",
    ")"
   ]
  },
  {
   "cell_type": "code",
   "execution_count": 398,
   "id": "2a964e5b",
   "metadata": {},
   "outputs": [],
   "source": [
    "from mobie.view_utils import create_view, combine_views"
   ]
  },
  {
   "cell_type": "code",
   "execution_count": 399,
   "id": "63448e81",
   "metadata": {},
   "outputs": [],
   "source": [
    "from mobie.metadata.dataset_metadata import add_view_to_dataset, add_default_location_to_dataset"
   ]
  },
  {
   "cell_type": "code",
   "execution_count": 400,
   "id": "bddbd6e0",
   "metadata": {
    "scrolled": false
   },
   "outputs": [],
   "source": [
    "add_view_to_dataset(\n",
    "    dataset_folder=join(mobie_project_folder, dataset_name),\n",
    "    view_name=\"default\",\n",
    "    view=default,\n",
    ")"
   ]
  },
  {
   "cell_type": "code",
   "execution_count": 401,
   "id": "c18d2091",
   "metadata": {
    "scrolled": true
   },
   "outputs": [
    {
     "name": "stderr",
     "output_type": "stream",
     "text": [
      "Check sources for dataset Projection-Mix: 100%|███████████████████████████████████████████████████████████████████████████████████████████████████████████████████████████████| 1537/1537 [00:08<00:00, 175.90it/s]\n",
      "Check views for dataset Projection-Mix: 100%|██████████████████████████████████████████████████████████████████████████████████████████████████████████████████████████████████| 1541/1541 [00:22<00:00, 69.38it/s]\n",
      "Check view files for dataset Projection-Mix: 0it [00:00, ?it/s]"
     ]
    },
    {
     "name": "stdout",
     "output_type": "stream",
     "text": [
      "The project at ./mobie-example-project is a valid MoBIE project.\n"
     ]
    },
    {
     "name": "stderr",
     "output_type": "stream",
     "text": [
      "\n"
     ]
    }
   ],
   "source": [
    "# Validate MoBIE project integrety\n",
    "mobie.validation.validate_project(mobie_project_folder)"
   ]
  },
  {
   "cell_type": "markdown",
   "id": "4e7b158e",
   "metadata": {},
   "source": [
    "# Add projections"
   ]
  },
  {
   "cell_type": "code",
   "execution_count": null,
   "id": "c5652e68",
   "metadata": {},
   "outputs": [],
   "source": []
  }
 ],
 "metadata": {
  "kernelspec": {
   "display_name": "Python 3 (ipykernel)",
   "language": "python",
   "name": "python3"
  },
  "language_info": {
   "codemirror_mode": {
    "name": "ipython",
    "version": 3
   },
   "file_extension": ".py",
   "mimetype": "text/x-python",
   "name": "python",
   "nbconvert_exporter": "python",
   "pygments_lexer": "ipython3",
   "version": "3.9.0"
  }
 },
 "nbformat": 4,
 "nbformat_minor": 5
}
