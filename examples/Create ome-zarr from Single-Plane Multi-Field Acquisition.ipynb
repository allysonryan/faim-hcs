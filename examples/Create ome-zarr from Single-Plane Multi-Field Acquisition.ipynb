{
 "cells": [
  {
   "cell_type": "markdown",
   "id": "38bc0937",
   "metadata": {},
   "source": [
    "# Create ome-zarr from Single-Plane Multi-Field Acquisition\n",
    "\n",
    "This example builds an ome-zarr (NGFF) high-content screening file from a `Molecular Devices ImageXpress` acquistion.\n",
    "\n",
    "The example data is located in `../resources/MIP-2P-2sub` and has the following form:\n",
    "```\n",
    "Storage hierarchy on disk for 2 wells with 2 fields and 2 channels:\n",
    "    MIP-2P-2sub --> {name}\n",
    "    └── 2022-07-05 --> {date}\n",
    "        └── 1075 --> {acquisition id}\n",
    "            ├── MIP-2P-2sub_C05_s1_w146C9B2CD-0BB3-4B8A-9187-2805F4C90506.tif\n",
    "            ├── MIP-2P-2sub_C05_s1_w1_thumb6EFE77C6-B96D-412A-9FD1-710DBDA32821.tif\n",
    "            ├── MIP-2P-2sub_C05_s1_w2B90625C8-6EA7-4E54-8289-C539EB75263E.tif\n",
    "            ├── MIP-2P-2sub_C05_s1_w2_thumbEDDF803A-AE5E-4190-8C06-F54341AEC4A6.tif\n",
    "            ├── MIP-2P-2sub_C05_s2_w1E2913F7F-E229-4B6A-BFED-02BCF54561FA.tif\n",
    "            ├── MIP-2P-2sub_C05_s2_w1_thumb72E3641A-C91B-4501-900A-245BAC58FF46.tif\n",
    "            ├── MIP-2P-2sub_C05_s2_w241C38630-BCFD-4393-8706-58755CECE059.tif\n",
    "            ├── MIP-2P-2sub_C05_s2_w2_thumb5377A5AC-9BBF-4BAF-99A2-24896E3373A2.tif\n",
    "            ├── MIP-2P-2sub_C06_s1_w152C23B9A-EB4C-4DF6-8A7F-F4147A9E7DDE.tif\n",
    "            ├── MIP-2P-2sub_C06_s1_w1_thumb541AA634-387C-4B84-B0D8-EE4CB1C88E81.tif\n",
    "            ├── MIP-2P-2sub_C06_s1_w2FB0D7D9B-3EA0-445E-9A05-7D01154A9A5C.tif\n",
    "            ├── MIP-2P-2sub_C06_s1_w2_thumb8FA1E466-57CD-4237-B09B-CAB48154647D.tif\n",
    "            ├── MIP-2P-2sub_C06_s2_w1F365E60C-BCC2-4B74-9856-BCE07C8B0FD3.tif\n",
    "            ├── MIP-2P-2sub_C06_s2_w1_thumb9652366E-36A0-4B7F-8B18-DA89D7DB41BD.tif\n",
    "            ├── MIP-2P-2sub_C06_s2_w20EEC6AEA-1727-41E6-806C-40FF6AF68B6C.tif\n",
    "            └── MIP-2P-2sub_C06_s2_w2_thumb710CD846-0185-4362-BBAF-C700AE0013B3.tif\n",
    "```\n",
    "\n",
    "* Image data is stored in `{name}_{well}_{field}_w{channel}{md_id}.tif`.\n",
    "* The `*_thumb*.tif` files are used by Molecular Devices as preview."
   ]
  },
  {
   "cell_type": "code",
   "execution_count": 1,
   "id": "919ac7a2",
   "metadata": {},
   "outputs": [],
   "source": [
    "from faim_hcs.io.MolecularDevicesImageXpress import parse_single_plane_multi_fields\n",
    "from faim_hcs.Zarr import build_zarr_scaffold, write_cyx_image_to_well\n",
    "from faim_hcs.MetaSeriesUtils import get_well_image_CYX\n",
    "from faim_hcs.UIntHistogram import UIntHistogram\n",
    "import shutil\n",
    "from tqdm.notebook import tqdm\n",
    "from os.path import join"
   ]
  },
  {
   "cell_type": "code",
   "execution_count": 2,
   "id": "a5472407",
   "metadata": {},
   "outputs": [],
   "source": [
    "acquisition_dir = '../resources/MIP-2P-2sub/'\n",
    "zarr_root = './zarr-files'"
   ]
  },
  {
   "cell_type": "code",
   "execution_count": 3,
   "id": "9c4b5bd6",
   "metadata": {},
   "outputs": [],
   "source": [
    "files = parse_single_plane_multi_fields(acquisition_dir)"
   ]
  },
  {
   "cell_type": "code",
   "execution_count": 4,
   "id": "fe2936b0",
   "metadata": {},
   "outputs": [
    {
     "data": {
      "text/html": [
       "<div>\n",
       "<style scoped>\n",
       "    .dataframe tbody tr th:only-of-type {\n",
       "        vertical-align: middle;\n",
       "    }\n",
       "\n",
       "    .dataframe tbody tr th {\n",
       "        vertical-align: top;\n",
       "    }\n",
       "\n",
       "    .dataframe thead th {\n",
       "        text-align: right;\n",
       "    }\n",
       "</style>\n",
       "<table border=\"1\" class=\"dataframe\">\n",
       "  <thead>\n",
       "    <tr style=\"text-align: right;\">\n",
       "      <th></th>\n",
       "      <th>name</th>\n",
       "      <th>well</th>\n",
       "      <th>field</th>\n",
       "      <th>channel</th>\n",
       "      <th>md_id</th>\n",
       "      <th>ext</th>\n",
       "      <th>path</th>\n",
       "    </tr>\n",
       "  </thead>\n",
       "  <tbody>\n",
       "    <tr>\n",
       "      <th>0</th>\n",
       "      <td>MIP-2P-2sub</td>\n",
       "      <td>C05</td>\n",
       "      <td>s1</td>\n",
       "      <td>w2</td>\n",
       "      <td>B90625C8-6EA7-4E54-8289-C539EB75263E</td>\n",
       "      <td>.tif</td>\n",
       "      <td>../resources/MIP-2P-2sub/2022-07-05/1075/MIP-2...</td>\n",
       "    </tr>\n",
       "    <tr>\n",
       "      <th>1</th>\n",
       "      <td>MIP-2P-2sub</td>\n",
       "      <td>C06</td>\n",
       "      <td>s2</td>\n",
       "      <td>w2</td>\n",
       "      <td>0EEC6AEA-1727-41E6-806C-40FF6AF68B6C</td>\n",
       "      <td>.tif</td>\n",
       "      <td>../resources/MIP-2P-2sub/2022-07-05/1075/MIP-2...</td>\n",
       "    </tr>\n",
       "    <tr>\n",
       "      <th>2</th>\n",
       "      <td>MIP-2P-2sub</td>\n",
       "      <td>C05</td>\n",
       "      <td>s2</td>\n",
       "      <td>w2</td>\n",
       "      <td>41C38630-BCFD-4393-8706-58755CECE059</td>\n",
       "      <td>.tif</td>\n",
       "      <td>../resources/MIP-2P-2sub/2022-07-05/1075/MIP-2...</td>\n",
       "    </tr>\n",
       "    <tr>\n",
       "      <th>3</th>\n",
       "      <td>MIP-2P-2sub</td>\n",
       "      <td>C06</td>\n",
       "      <td>s2</td>\n",
       "      <td>w1</td>\n",
       "      <td>F365E60C-BCC2-4B74-9856-BCE07C8B0FD3</td>\n",
       "      <td>.tif</td>\n",
       "      <td>../resources/MIP-2P-2sub/2022-07-05/1075/MIP-2...</td>\n",
       "    </tr>\n",
       "    <tr>\n",
       "      <th>4</th>\n",
       "      <td>MIP-2P-2sub</td>\n",
       "      <td>C06</td>\n",
       "      <td>s1</td>\n",
       "      <td>w1</td>\n",
       "      <td>52C23B9A-EB4C-4DF6-8A7F-F4147A9E7DDE</td>\n",
       "      <td>.tif</td>\n",
       "      <td>../resources/MIP-2P-2sub/2022-07-05/1075/MIP-2...</td>\n",
       "    </tr>\n",
       "    <tr>\n",
       "      <th>5</th>\n",
       "      <td>MIP-2P-2sub</td>\n",
       "      <td>C06</td>\n",
       "      <td>s1</td>\n",
       "      <td>w2</td>\n",
       "      <td>FB0D7D9B-3EA0-445E-9A05-7D01154A9A5C</td>\n",
       "      <td>.tif</td>\n",
       "      <td>../resources/MIP-2P-2sub/2022-07-05/1075/MIP-2...</td>\n",
       "    </tr>\n",
       "    <tr>\n",
       "      <th>6</th>\n",
       "      <td>MIP-2P-2sub</td>\n",
       "      <td>C05</td>\n",
       "      <td>s2</td>\n",
       "      <td>w1</td>\n",
       "      <td>E2913F7F-E229-4B6A-BFED-02BCF54561FA</td>\n",
       "      <td>.tif</td>\n",
       "      <td>../resources/MIP-2P-2sub/2022-07-05/1075/MIP-2...</td>\n",
       "    </tr>\n",
       "    <tr>\n",
       "      <th>7</th>\n",
       "      <td>MIP-2P-2sub</td>\n",
       "      <td>C05</td>\n",
       "      <td>s1</td>\n",
       "      <td>w1</td>\n",
       "      <td>46C9B2CD-0BB3-4B8A-9187-2805F4C90506</td>\n",
       "      <td>.tif</td>\n",
       "      <td>../resources/MIP-2P-2sub/2022-07-05/1075/MIP-2...</td>\n",
       "    </tr>\n",
       "  </tbody>\n",
       "</table>\n",
       "</div>"
      ],
      "text/plain": [
       "          name well field channel                                 md_id   ext  \\\n",
       "0  MIP-2P-2sub  C05    s1      w2  B90625C8-6EA7-4E54-8289-C539EB75263E  .tif   \n",
       "1  MIP-2P-2sub  C06    s2      w2  0EEC6AEA-1727-41E6-806C-40FF6AF68B6C  .tif   \n",
       "2  MIP-2P-2sub  C05    s2      w2  41C38630-BCFD-4393-8706-58755CECE059  .tif   \n",
       "3  MIP-2P-2sub  C06    s2      w1  F365E60C-BCC2-4B74-9856-BCE07C8B0FD3  .tif   \n",
       "4  MIP-2P-2sub  C06    s1      w1  52C23B9A-EB4C-4DF6-8A7F-F4147A9E7DDE  .tif   \n",
       "5  MIP-2P-2sub  C06    s1      w2  FB0D7D9B-3EA0-445E-9A05-7D01154A9A5C  .tif   \n",
       "6  MIP-2P-2sub  C05    s2      w1  E2913F7F-E229-4B6A-BFED-02BCF54561FA  .tif   \n",
       "7  MIP-2P-2sub  C05    s1      w1  46C9B2CD-0BB3-4B8A-9187-2805F4C90506  .tif   \n",
       "\n",
       "                                                path  \n",
       "0  ../resources/MIP-2P-2sub/2022-07-05/1075/MIP-2...  \n",
       "1  ../resources/MIP-2P-2sub/2022-07-05/1075/MIP-2...  \n",
       "2  ../resources/MIP-2P-2sub/2022-07-05/1075/MIP-2...  \n",
       "3  ../resources/MIP-2P-2sub/2022-07-05/1075/MIP-2...  \n",
       "4  ../resources/MIP-2P-2sub/2022-07-05/1075/MIP-2...  \n",
       "5  ../resources/MIP-2P-2sub/2022-07-05/1075/MIP-2...  \n",
       "6  ../resources/MIP-2P-2sub/2022-07-05/1075/MIP-2...  \n",
       "7  ../resources/MIP-2P-2sub/2022-07-05/1075/MIP-2...  "
      ]
     },
     "execution_count": 4,
     "metadata": {},
     "output_type": "execute_result"
    }
   ],
   "source": [
    "files"
   ]
  },
  {
   "cell_type": "code",
   "execution_count": 5,
   "id": "948904be",
   "metadata": {},
   "outputs": [],
   "source": [
    "# Remove zarr if it already exists.\n",
    "shutil.rmtree(join(zarr_root, \"MIP-2P-2sub.zarr\"))\n",
    "\n",
    "# Build empty zarr plate scaffold.\n",
    "plate = build_zarr_scaffold(root_dir=zarr_root,\n",
    "                            files=files,\n",
    "                            layout=\"96\",\n",
    "                            order_name=\"example-order\",\n",
    "                            barcode=\"example-barcode\")"
   ]
  },
  {
   "cell_type": "code",
   "execution_count": 6,
   "id": "37f65e50",
   "metadata": {},
   "outputs": [
    {
     "data": {
      "application/vnd.jupyter.widget-view+json": {
       "model_id": "11624c5c088e4a0db2c116093b7e678c",
       "version_major": 2,
       "version_minor": 0
      },
      "text/plain": [
       "  0%|          | 0/2 [00:00<?, ?it/s]"
      ]
     },
     "metadata": {},
     "output_type": "display_data"
    }
   ],
   "source": [
    "# Add image data to wells\n",
    "for well in tqdm(files['well'].unique()):\n",
    "    well_files = files[files['well'] == well]\n",
    "    \n",
    "    img, hists, ch_metadata, metadta = get_well_image_CYX(\n",
    "        well_files=well_files\n",
    "    )\n",
    "    \n",
    "    well_group = plate[well[0]][str(int(well[1:]))][0]\n",
    "    write_cyx_image_to_well(img, hists, ch_metadata, metadta, well_group)"
   ]
  },
  {
   "cell_type": "markdown",
   "id": "7f5a8f42",
   "metadata": {},
   "source": [
    "# Inspect ome-zarr plate\n",
    "The data can be opened with the [ome-zarr Napari plugin](https://www.napari-hub.org/plugins/napari-ome-zarr)."
   ]
  }
 ],
 "metadata": {
  "kernelspec": {
   "display_name": "Python 3 (ipykernel)",
   "language": "python",
   "name": "python3"
  },
  "language_info": {
   "codemirror_mode": {
    "name": "ipython",
    "version": 3
   },
   "file_extension": ".py",
   "mimetype": "text/x-python",
   "name": "python",
   "nbconvert_exporter": "python",
   "pygments_lexer": "ipython3",
   "version": "3.9.0"
  }
 },
 "nbformat": 4,
 "nbformat_minor": 5
}
