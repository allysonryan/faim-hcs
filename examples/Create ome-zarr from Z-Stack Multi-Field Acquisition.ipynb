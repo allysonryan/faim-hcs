{
 "cells": [
  {
   "cell_type": "markdown",
   "id": "38bc0937",
   "metadata": {},
   "source": [
    "# Create ome-zarr from Z-Stack Multi-Field Acquisition\n",
    "\n",
    "This example builds an ome-zarr (NGFF) high-content screening file from a `Molecular Devices ImageXpress` acquistion.\n",
    "\n",
    "The example data is located in `../resources/Projection-Mix` and has the following form:\n",
    "```\n",
    "Storage hierarchy on disk for z-stacks of 2 wells with 2 fields and 3 channels:\n",
    "    Projection-Mix --> {name}\n",
    "    └── 2023-02-21 --> {date}\n",
    "        └── 1334 --> {acquisition id}\n",
    "            ├── Projection-Mix_E07_s1_w1E94C24BD-45E4-450A-9919-257C714278F7.tif\n",
    "            ├── Projection-Mix_E07_s1_w1_thumb4BFD4018-E675-475E-B5AB-2E959E6B6DA1.tif\n",
    "            ├── Projection-Mix_E07_s1_w2B14915F6-0679-4494-82D1-F80894B32A66.tif\n",
    "            ├── Projection-Mix_E07_s1_w2_thumbE5A6D08C-AF44-4CA9-A6E8-7DC9BC9565F2.tif\n",
    "            ├── Projection-Mix_E07_s1_w3BB87F860-FC67-4B3A-A740-A9EACF8A8F5F.tif\n",
    "            ├── Projection-Mix_E07_s1_w3_thumbD739A948-8CA4-4559-910C-79D42CEC98A0.tif\n",
    "            ├── Projection-Mix_E07_s2_w1DCFD1526-D063-4F8B-9E51-F1BD2EBD9F1A.tif\n",
    "            ├── Projection-Mix_E07_s2_w1_thumbE4903920-91AA-405E-A39B-6EB284EA48E5.tif\n",
    "            ├── Projection-Mix_E07_s2_w2607EE13F-AB5E-4E8C-BC4B-52E1118E7723.tif\n",
    "            ├── Projection-Mix_E07_s2_w2_thumb15675A28-B45B-42E9-802C-833005E72657.tif\n",
    "            ├── Projection-Mix_E07_s2_w3B0A47337-5945-4B26-9F5F-4EBA468CDBA9.tif\n",
    "            ├── Projection-Mix_E07_s2_w3_thumbE3E91A92-3DD7-4EF5-BC32-8F5EF95B2CCA.tif\n",
    "            ├── Projection-Mix_E08_s1_w117654C10-92F1-4DFD-98AA-6A01BBD77557.tif\n",
    "            ├── Projection-Mix_E08_s1_w1_thumbD59B8F66-7743-4113-B6A2-8899FD53C3C8.tif\n",
    "            ├── Projection-Mix_E08_s1_w281928711-999D-41F6-B88C-999513D4C092.tif\n",
    "            ├── Projection-Mix_E08_s1_w2_thumb6D866DBC-F5F2-41D3-BEDD-28BEEB281FDD.tif\n",
    "            ├── Projection-Mix_E08_s1_w3DD77D22D-07CB-4529-A1F5-DCC5473786FA.tif\n",
    "            ├── Projection-Mix_E08_s1_w3_thumb615741CD-A218-4C30-BC79-E62A9D675DF5.tif\n",
    "            ├── Projection-Mix_E08_s2_w1B38C01F5-0D36-4A29-9F5A-BE62B6F7F73F.tif\n",
    "            ├── Projection-Mix_E08_s2_w1_thumbC7F53295-5DB8-4989-9E25-DD1068A2E266.tif\n",
    "            ├── Projection-Mix_E08_s2_w266923EBB-9960-4952-8955-D1721D112EE2.tif\n",
    "            ├── Projection-Mix_E08_s2_w2_thumb49A20B6B-1B86-47F1-B5FA-C22B47D2590D.tif\n",
    "            ├── Projection-Mix_E08_s2_w3CCE83D85-0912-429E-9F18-716A085BB5BC.tif\n",
    "            ├── Projection-Mix_E08_s2_w3_thumb4D88636E-181E-4AF6-BC53-E7A435959C8F.tif\n",
    "            ├── ZStep_1\n",
    "            │   ├── Projection-Mix_E07_s1_w1E78EB128-BD0D-4D94-A6AD-3FF28BB1B105.tif\n",
    "            │   ├── ...\n",
    "            │   └── Projection-Mix_E08_s2_w4_thumbD2785594-4F49-464F-9F80-1B82E30A560A.tif\n",
    "            ├── ...\n",
    "            └── ZStep_10\n",
    "                ├── Projection-Mix_E07_s1_w11D01380B-E7DA-4C09-A343-EDA3D235D808.tif\n",
    "                ├── Projection-Mix_E07_s1_w1_thumb16F6E9D3-12E4-426F-A4BF-9AD5D23A000F.tif\n",
    "                ├── Projection-Mix_E07_s1_w27FF63331-0307-4A31-89AC-B363F8BCED7A.tif\n",
    "                ├── Projection-Mix_E07_s1_w2_thumb55E0167A-3CFE-4E67-AC0B-A1A900FC9CF6.tif\n",
    "                ├── Projection-Mix_E07_s2_w12BFD0E01-D7F8-4596-8904-3209AD741437.tif\n",
    "                ├── Projection-Mix_E07_s2_w1_thumb6F13EC7B-89B8-4720-9E33-5D56699B2ED0.tif\n",
    "                ├── Projection-Mix_E07_s2_w20DB41161-451B-4A8B-9DA6-8E9C7D56D30E.tif\n",
    "                ├── Projection-Mix_E07_s2_w2_thumbAF5EB66F-8476-4520-865B-D74FE5AE5CE2.tif\n",
    "                ├── Projection-Mix_E08_s1_w1F11777E5-3795-4B08-BB89-F854F3414F88.tif\n",
    "                ├── Projection-Mix_E08_s1_w1_thumbE57B9E91-5584-4A7A-8D1B-9E4C0F263742.tif\n",
    "                ├── Projection-Mix_E08_s1_w2D6F71AC1-8418-4C24-94A2-A273E706891B.tif\n",
    "                ├── Projection-Mix_E08_s1_w2_thumb5F0241E5-6AE0-45A8-A464-65E6B71F2FB3.tif\n",
    "                ├── Projection-Mix_E08_s2_w1E84FADEE-6DCE-4646-8329-F841B2D45415.tif\n",
    "                ├── Projection-Mix_E08_s2_w1_thumbED8582E8-6F5A-4639-86F1-E98C869814C2.tif\n",
    "                ├── Projection-Mix_E08_s2_w2BB584250-EC8C-49E1-98F3-93113F70C320.tif\n",
    "                └── Projection-Mix_E08_s2_w2_thumb912362B1-19FE-40C6-A7DC-DAE2CC83872B.tif\n",
    "\n",
    "```\n",
    "\n",
    "\n",
    "* Z-Stack data is stored in `ZStep_{z}/{name}_{well}_{field}_w{channel}{md_id}.tif`\n",
    "* Projection data is stored in `{name}_{well}_{field}_w{channel}{md_id}.tif`.\n",
    "* Channels 1 and 2 are z-stacks with two different projection methods (max and best-focus).\n",
    "* Channel 3 is only maximum projection, no z-stack.\n",
    "* Channel 4 is a single z-plane only.\n",
    "* The `*_thumb*.tif` files are used by Molecular Devices as preview."
   ]
  },
  {
   "cell_type": "code",
   "execution_count": 1,
   "id": "919ac7a2",
   "metadata": {},
   "outputs": [],
   "source": [
    "from faim_hcs.io.MolecularDevicesImageXpress import parse_files\n",
    "from faim_hcs.Zarr import build_zarr_scaffold, write_czyx_image_to_well, write_cyx_image_to_well\n",
    "from faim_hcs.MetaSeriesUtils import get_well_image_CYX, get_well_image_CZYX, montage_grid_image_YX\n",
    "from faim_hcs.UIntHistogram import UIntHistogram\n",
    "import shutil\n",
    "from tqdm.notebook import tqdm\n",
    "from os.path import join, exists\n",
    "\n",
    "import zarr"
   ]
  },
  {
   "cell_type": "code",
   "execution_count": 2,
   "id": "a5472407",
   "metadata": {},
   "outputs": [],
   "source": [
    "acquisition_dir = '../resources/Projection-Mix/'\n",
    "zarr_root = './zarr-files'"
   ]
  },
  {
   "cell_type": "code",
   "execution_count": 3,
   "id": "9c4b5bd6",
   "metadata": {},
   "outputs": [],
   "source": [
    "files = parse_files(acquisition_dir)"
   ]
  },
  {
   "cell_type": "code",
   "execution_count": 4,
   "id": "fe2936b0",
   "metadata": {},
   "outputs": [
    {
     "data": {
      "text/html": [
       "<div>\n",
       "<style scoped>\n",
       "    .dataframe tbody tr th:only-of-type {\n",
       "        vertical-align: middle;\n",
       "    }\n",
       "\n",
       "    .dataframe tbody tr th {\n",
       "        vertical-align: top;\n",
       "    }\n",
       "\n",
       "    .dataframe thead th {\n",
       "        text-align: right;\n",
       "    }\n",
       "</style>\n",
       "<table border=\"1\" class=\"dataframe\">\n",
       "  <thead>\n",
       "    <tr style=\"text-align: right;\">\n",
       "      <th></th>\n",
       "      <th>date</th>\n",
       "      <th>acq_id</th>\n",
       "      <th>z</th>\n",
       "      <th>name</th>\n",
       "      <th>well</th>\n",
       "      <th>field</th>\n",
       "      <th>channel</th>\n",
       "      <th>md_id</th>\n",
       "      <th>ext</th>\n",
       "      <th>path</th>\n",
       "    </tr>\n",
       "  </thead>\n",
       "  <tbody>\n",
       "    <tr>\n",
       "      <th>0</th>\n",
       "      <td>2023-02-21</td>\n",
       "      <td>1334</td>\n",
       "      <td>None</td>\n",
       "      <td>Projection-Mix</td>\n",
       "      <td>E08</td>\n",
       "      <td>s2</td>\n",
       "      <td>w2</td>\n",
       "      <td>66923EBB-9960-4952-8955-D1721D112EE2</td>\n",
       "      <td>.tif</td>\n",
       "      <td>../resources/Projection-Mix/2023-02-21/1334/Pr...</td>\n",
       "    </tr>\n",
       "    <tr>\n",
       "      <th>1</th>\n",
       "      <td>2023-02-21</td>\n",
       "      <td>1334</td>\n",
       "      <td>None</td>\n",
       "      <td>Projection-Mix</td>\n",
       "      <td>E07</td>\n",
       "      <td>s2</td>\n",
       "      <td>w1</td>\n",
       "      <td>DCFD1526-D063-4F8B-9E51-F1BD2EBD9F1A</td>\n",
       "      <td>.tif</td>\n",
       "      <td>../resources/Projection-Mix/2023-02-21/1334/Pr...</td>\n",
       "    </tr>\n",
       "    <tr>\n",
       "      <th>2</th>\n",
       "      <td>2023-02-21</td>\n",
       "      <td>1334</td>\n",
       "      <td>None</td>\n",
       "      <td>Projection-Mix</td>\n",
       "      <td>E07</td>\n",
       "      <td>s1</td>\n",
       "      <td>w1</td>\n",
       "      <td>E94C24BD-45E4-450A-9919-257C714278F7</td>\n",
       "      <td>.tif</td>\n",
       "      <td>../resources/Projection-Mix/2023-02-21/1334/Pr...</td>\n",
       "    </tr>\n",
       "    <tr>\n",
       "      <th>3</th>\n",
       "      <td>2023-02-21</td>\n",
       "      <td>1334</td>\n",
       "      <td>None</td>\n",
       "      <td>Projection-Mix</td>\n",
       "      <td>E07</td>\n",
       "      <td>s1</td>\n",
       "      <td>w2</td>\n",
       "      <td>B14915F6-0679-4494-82D1-F80894B32A66</td>\n",
       "      <td>.tif</td>\n",
       "      <td>../resources/Projection-Mix/2023-02-21/1334/Pr...</td>\n",
       "    </tr>\n",
       "    <tr>\n",
       "      <th>4</th>\n",
       "      <td>2023-02-21</td>\n",
       "      <td>1334</td>\n",
       "      <td>None</td>\n",
       "      <td>Projection-Mix</td>\n",
       "      <td>E08</td>\n",
       "      <td>s1</td>\n",
       "      <td>w3</td>\n",
       "      <td>DD77D22D-07CB-4529-A1F5-DCC5473786FA</td>\n",
       "      <td>.tif</td>\n",
       "      <td>../resources/Projection-Mix/2023-02-21/1334/Pr...</td>\n",
       "    </tr>\n",
       "    <tr>\n",
       "      <th>...</th>\n",
       "      <td>...</td>\n",
       "      <td>...</td>\n",
       "      <td>...</td>\n",
       "      <td>...</td>\n",
       "      <td>...</td>\n",
       "      <td>...</td>\n",
       "      <td>...</td>\n",
       "      <td>...</td>\n",
       "      <td>...</td>\n",
       "      <td>...</td>\n",
       "    </tr>\n",
       "    <tr>\n",
       "      <th>91</th>\n",
       "      <td>2023-02-21</td>\n",
       "      <td>1334</td>\n",
       "      <td>3</td>\n",
       "      <td>Projection-Mix</td>\n",
       "      <td>E07</td>\n",
       "      <td>s2</td>\n",
       "      <td>w2</td>\n",
       "      <td>D7E0C2D6-CE27-4EC4-8E7B-90D3F351B9C3</td>\n",
       "      <td>.tif</td>\n",
       "      <td>../resources/Projection-Mix/2023-02-21/1334/ZS...</td>\n",
       "    </tr>\n",
       "    <tr>\n",
       "      <th>92</th>\n",
       "      <td>2023-02-21</td>\n",
       "      <td>1334</td>\n",
       "      <td>3</td>\n",
       "      <td>Projection-Mix</td>\n",
       "      <td>E08</td>\n",
       "      <td>s1</td>\n",
       "      <td>w1</td>\n",
       "      <td>1C103277-03CC-448A-9994-016D0DA8E40D</td>\n",
       "      <td>.tif</td>\n",
       "      <td>../resources/Projection-Mix/2023-02-21/1334/ZS...</td>\n",
       "    </tr>\n",
       "    <tr>\n",
       "      <th>93</th>\n",
       "      <td>2023-02-21</td>\n",
       "      <td>1334</td>\n",
       "      <td>3</td>\n",
       "      <td>Projection-Mix</td>\n",
       "      <td>E07</td>\n",
       "      <td>s2</td>\n",
       "      <td>w1</td>\n",
       "      <td>3F8FCF31-E226-4345-BE10-362D859537BE</td>\n",
       "      <td>.tif</td>\n",
       "      <td>../resources/Projection-Mix/2023-02-21/1334/ZS...</td>\n",
       "    </tr>\n",
       "    <tr>\n",
       "      <th>94</th>\n",
       "      <td>2023-02-21</td>\n",
       "      <td>1334</td>\n",
       "      <td>3</td>\n",
       "      <td>Projection-Mix</td>\n",
       "      <td>E07</td>\n",
       "      <td>s1</td>\n",
       "      <td>w2</td>\n",
       "      <td>5B80CE92-FF54-4E8F-B208-22AB72686763</td>\n",
       "      <td>.tif</td>\n",
       "      <td>../resources/Projection-Mix/2023-02-21/1334/ZS...</td>\n",
       "    </tr>\n",
       "    <tr>\n",
       "      <th>95</th>\n",
       "      <td>2023-02-21</td>\n",
       "      <td>1334</td>\n",
       "      <td>3</td>\n",
       "      <td>Projection-Mix</td>\n",
       "      <td>E08</td>\n",
       "      <td>s2</td>\n",
       "      <td>w1</td>\n",
       "      <td>BB405418-05F7-4C37-A3E0-D676A75B9C99</td>\n",
       "      <td>.tif</td>\n",
       "      <td>../resources/Projection-Mix/2023-02-21/1334/ZS...</td>\n",
       "    </tr>\n",
       "  </tbody>\n",
       "</table>\n",
       "<p>96 rows × 10 columns</p>\n",
       "</div>"
      ],
      "text/plain": [
       "          date acq_id     z            name well field channel  \\\n",
       "0   2023-02-21   1334  None  Projection-Mix  E08    s2      w2   \n",
       "1   2023-02-21   1334  None  Projection-Mix  E07    s2      w1   \n",
       "2   2023-02-21   1334  None  Projection-Mix  E07    s1      w1   \n",
       "3   2023-02-21   1334  None  Projection-Mix  E07    s1      w2   \n",
       "4   2023-02-21   1334  None  Projection-Mix  E08    s1      w3   \n",
       "..         ...    ...   ...             ...  ...   ...     ...   \n",
       "91  2023-02-21   1334     3  Projection-Mix  E07    s2      w2   \n",
       "92  2023-02-21   1334     3  Projection-Mix  E08    s1      w1   \n",
       "93  2023-02-21   1334     3  Projection-Mix  E07    s2      w1   \n",
       "94  2023-02-21   1334     3  Projection-Mix  E07    s1      w2   \n",
       "95  2023-02-21   1334     3  Projection-Mix  E08    s2      w1   \n",
       "\n",
       "                                   md_id   ext  \\\n",
       "0   66923EBB-9960-4952-8955-D1721D112EE2  .tif   \n",
       "1   DCFD1526-D063-4F8B-9E51-F1BD2EBD9F1A  .tif   \n",
       "2   E94C24BD-45E4-450A-9919-257C714278F7  .tif   \n",
       "3   B14915F6-0679-4494-82D1-F80894B32A66  .tif   \n",
       "4   DD77D22D-07CB-4529-A1F5-DCC5473786FA  .tif   \n",
       "..                                   ...   ...   \n",
       "91  D7E0C2D6-CE27-4EC4-8E7B-90D3F351B9C3  .tif   \n",
       "92  1C103277-03CC-448A-9994-016D0DA8E40D  .tif   \n",
       "93  3F8FCF31-E226-4345-BE10-362D859537BE  .tif   \n",
       "94  5B80CE92-FF54-4E8F-B208-22AB72686763  .tif   \n",
       "95  BB405418-05F7-4C37-A3E0-D676A75B9C99  .tif   \n",
       "\n",
       "                                                 path  \n",
       "0   ../resources/Projection-Mix/2023-02-21/1334/Pr...  \n",
       "1   ../resources/Projection-Mix/2023-02-21/1334/Pr...  \n",
       "2   ../resources/Projection-Mix/2023-02-21/1334/Pr...  \n",
       "3   ../resources/Projection-Mix/2023-02-21/1334/Pr...  \n",
       "4   ../resources/Projection-Mix/2023-02-21/1334/Pr...  \n",
       "..                                                ...  \n",
       "91  ../resources/Projection-Mix/2023-02-21/1334/ZS...  \n",
       "92  ../resources/Projection-Mix/2023-02-21/1334/ZS...  \n",
       "93  ../resources/Projection-Mix/2023-02-21/1334/ZS...  \n",
       "94  ../resources/Projection-Mix/2023-02-21/1334/ZS...  \n",
       "95  ../resources/Projection-Mix/2023-02-21/1334/ZS...  \n",
       "\n",
       "[96 rows x 10 columns]"
      ]
     },
     "execution_count": 4,
     "metadata": {},
     "output_type": "execute_result"
    }
   ],
   "source": [
    "files"
   ]
  },
  {
   "cell_type": "code",
   "execution_count": 5,
   "id": "948904be",
   "metadata": {},
   "outputs": [],
   "source": [
    "if exists(join(zarr_root, \"Projection-Mix.zarr\")):\n",
    "    # Remove zarr if it already exists.\n",
    "    shutil.rmtree(join(zarr_root, \"Projection-Mix.zarr\"))\n",
    "\n",
    "# Build empty zarr plate scaffold.\n",
    "plate = build_zarr_scaffold(root_dir=zarr_root,\n",
    "                            files=files,\n",
    "                            layout=96,\n",
    "                            order_name=\"example-order\",\n",
    "                            barcode=\"example-barcode\")"
   ]
  },
  {
   "cell_type": "code",
   "execution_count": 6,
   "id": "ca9576ea",
   "metadata": {},
   "outputs": [
    {
     "data": {
      "text/plain": [
       "array(['w2', 'w1', 'w3', 'w4'], dtype=object)"
      ]
     },
     "execution_count": 6,
     "metadata": {},
     "output_type": "execute_result"
    }
   ],
   "source": [
    "files.channel.unique()"
   ]
  },
  {
   "cell_type": "code",
   "execution_count": 7,
   "id": "bfc26c50",
   "metadata": {},
   "outputs": [],
   "source": [
    "single_plane_files = files[files['z'].isnull()]\n",
    "stack_files = files[~files['z'].isnull()]"
   ]
  },
  {
   "cell_type": "code",
   "execution_count": 8,
   "id": "ea48bfd1",
   "metadata": {},
   "outputs": [
    {
     "data": {
      "text/plain": [
       "array(['w2', 'w1', 'w3'], dtype=object)"
      ]
     },
     "execution_count": 8,
     "metadata": {},
     "output_type": "execute_result"
    }
   ],
   "source": [
    "single_plane_files.channel.unique()"
   ]
  },
  {
   "cell_type": "code",
   "execution_count": 9,
   "id": "0bce716b",
   "metadata": {},
   "outputs": [
    {
     "data": {
      "text/plain": [
       "array(['w1', 'w2', 'w4'], dtype=object)"
      ]
     },
     "execution_count": 9,
     "metadata": {},
     "output_type": "execute_result"
    }
   ],
   "source": [
    "stack_files.channel.unique()"
   ]
  },
  {
   "cell_type": "code",
   "execution_count": 10,
   "id": "b2aa1825",
   "metadata": {},
   "outputs": [],
   "source": [
    "well_files = single_plane_files[single_plane_files['well'] == 'E07']"
   ]
  },
  {
   "cell_type": "code",
   "execution_count": 11,
   "id": "04f6e48a",
   "metadata": {},
   "outputs": [],
   "source": [
    "img, hists, ch_metadata, metadata = get_well_image_CYX(\n",
    "    well_files=well_files,\n",
    "    channels=['w1', 'w2', 'w3', 'w4'],\n",
    "    assemble_fn=montage_grid_image_YX,\n",
    ")"
   ]
  },
  {
   "cell_type": "code",
   "execution_count": 12,
   "id": "4f397637",
   "metadata": {},
   "outputs": [],
   "source": [
    "well_files_3d = stack_files[stack_files['well'] == 'E07']"
   ]
  },
  {
   "cell_type": "code",
   "execution_count": 13,
   "id": "1aa30983",
   "metadata": {},
   "outputs": [],
   "source": [
    "stack, hist_3d, chm_3d, m3d = get_well_image_CZYX(\n",
    "    well_files=well_files_3d,\n",
    "    channels=['w1', 'w2', 'w3', 'w4'],\n",
    "    assemble_fn=montage_grid_image_YX,\n",
    ")"
   ]
  },
  {
   "cell_type": "code",
   "execution_count": 14,
   "id": "37f65e50",
   "metadata": {
    "scrolled": false
   },
   "outputs": [
    {
     "data": {
      "application/vnd.jupyter.widget-view+json": {
       "model_id": "bdf8249f980a47fcbaebf09ecab3088c",
       "version_major": 2,
       "version_minor": 0
      },
      "text/plain": [
       "  0%|          | 0/2 [00:00<?, ?it/s]"
      ]
     },
     "metadata": {},
     "output_type": "display_data"
    }
   ],
   "source": [
    "channels = ['w1', 'w2', 'w3', 'w4']\n",
    "# Add image data to wells\n",
    "for well in tqdm(files['well'].unique()):\n",
    "    well_files = files[files['well'] == well]\n",
    "    \n",
    "    single_plane_files = well_files[well_files['z'].isnull()]\n",
    "    stack_files = well_files[~well_files['z'].isnull()]\n",
    "    \n",
    "    \n",
    "    projection, proj_hists, proj_ch_metadata, proj_metadata = get_well_image_CYX(\n",
    "        well_files=single_plane_files,\n",
    "        channels=channels,\n",
    "        assemble_fn=montage_grid_image_YX,\n",
    "    )\n",
    "    \n",
    "    stack, stack_hist, stack_ch_metadata, stack_metadata = get_well_image_CZYX(\n",
    "        well_files=stack_files,\n",
    "        channels=channels,\n",
    "        assemble_fn=montage_grid_image_YX,\n",
    "    )\n",
    "    \n",
    "    field: zarr.Group = plate[well[0]][str(int(well[1:]))][0]\n",
    "    write_czyx_image_to_well(stack, stack_hist, stack_ch_metadata, stack_metadata, field, False)\n",
    "        \n",
    "    projections = field.create_group(\"projections\")\n",
    "    write_cyx_image_to_well(projection, proj_hists, proj_ch_metadata, proj_metadata, projections, False)"
   ]
  },
  {
   "cell_type": "markdown",
   "id": "7f5a8f42",
   "metadata": {},
   "source": [
    "# Inspect ome-zarr plate\n",
    "The data can be opened with the [ome-zarr Napari plugin](https://www.napari-hub.org/plugins/napari-ome-zarr)."
   ]
  }
 ],
 "metadata": {
  "kernelspec": {
   "display_name": "Python 3 (ipykernel)",
   "language": "python",
   "name": "python3"
  },
  "language_info": {
   "codemirror_mode": {
    "name": "ipython",
    "version": 3
   },
   "file_extension": ".py",
   "mimetype": "text/x-python",
   "name": "python",
   "nbconvert_exporter": "python",
   "pygments_lexer": "ipython3",
   "version": "3.9.0"
  }
 },
 "nbformat": 4,
 "nbformat_minor": 5
}
